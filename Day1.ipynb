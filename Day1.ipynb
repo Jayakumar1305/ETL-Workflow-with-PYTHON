{
  "nbformat": 4,
  "nbformat_minor": 0,
  "metadata": {
    "colab": {
      "provenance": [],
      "authorship_tag": "ABX9TyPeTyAOkBQkFpY4zXxK+m4M",
      "include_colab_link": true
    },
    "kernelspec": {
      "name": "python3",
      "display_name": "Python 3"
    },
    "language_info": {
      "name": "python"
    }
  },
  "cells": [
    {
      "cell_type": "markdown",
      "metadata": {
        "id": "view-in-github",
        "colab_type": "text"
      },
      "source": [
        "<a href=\"https://colab.research.google.com/github/Jayakumar1305/ETL-Workflow-with-PYTHON/blob/main/Day1.ipynb\" target=\"_parent\"><img src=\"https://colab.research.google.com/assets/colab-badge.svg\" alt=\"Open In Colab\"/></a>"
      ]
    },
    {
      "cell_type": "code",
      "execution_count": null,
      "metadata": {
        "id": "0HpLGBcGe2IE"
      },
      "outputs": [],
      "source": []
    },
    {
      "cell_type": "code",
      "source": [
        "!pip install pyspark"
      ],
      "metadata": {
        "colab": {
          "base_uri": "https://localhost:8080/"
        },
        "id": "fbs_ikFpe5xf",
        "outputId": "867fcf35-c034-4d08-e819-ff28a2937dee"
      },
      "execution_count": null,
      "outputs": [
        {
          "output_type": "stream",
          "name": "stdout",
          "text": [
            "Requirement already satisfied: pyspark in /usr/local/lib/python3.11/dist-packages (3.5.4)\n",
            "Requirement already satisfied: py4j==0.10.9.7 in /usr/local/lib/python3.11/dist-packages (from pyspark) (0.10.9.7)\n"
          ]
        }
      ]
    },
    {
      "cell_type": "code",
      "source": [
        "from pyspark.sql import SparkSession\n",
        "from pyspark.sql import Row"
      ],
      "metadata": {
        "id": "fssFf8YDe6qg"
      },
      "execution_count": null,
      "outputs": []
    },
    {
      "cell_type": "code",
      "source": [
        "df = SparkSession.builder.appName(\"ColabPySpark\").getOrCreate()\n"
      ],
      "metadata": {
        "id": "gGUMwUCqfAAC"
      },
      "execution_count": null,
      "outputs": []
    },
    {
      "cell_type": "code",
      "source": [
        "data = [(1, \"Alice\", 25, 5000), (2, \"Bob\", 30, 6000), (3, \"Charlie\", 35, 7000)]\n",
        "columns = [\"ID\", \"Name\", \"Age\", \"Salary\"]\n",
        "\n",
        "df = df.createDataFrame(data, columns)\n"
      ],
      "metadata": {
        "id": "FZjlb4vPfBXn"
      },
      "execution_count": null,
      "outputs": []
    },
    {
      "cell_type": "code",
      "source": [
        "df.show()"
      ],
      "metadata": {
        "colab": {
          "base_uri": "https://localhost:8080/"
        },
        "id": "sK4lzTcfftim",
        "outputId": "b93fd064-6314-45e7-abc1-b49fec5113fd"
      },
      "execution_count": null,
      "outputs": [
        {
          "output_type": "stream",
          "name": "stdout",
          "text": [
            "+---+-------+---+------+\n",
            "| ID|   Name|Age|Salary|\n",
            "+---+-------+---+------+\n",
            "|  1|  Alice| 25|  5000|\n",
            "|  2|    Bob| 30|  6000|\n",
            "|  3|Charlie| 35|  7000|\n",
            "+---+-------+---+------+\n",
            "\n"
          ]
        }
      ]
    },
    {
      "cell_type": "code",
      "source": [
        "df.printSchema()"
      ],
      "metadata": {
        "colab": {
          "base_uri": "https://localhost:8080/"
        },
        "id": "fkmuGMZzgH3F",
        "outputId": "47288bc3-3287-4d3c-967e-f02ee632875b"
      },
      "execution_count": null,
      "outputs": [
        {
          "output_type": "stream",
          "name": "stdout",
          "text": [
            "root\n",
            " |-- ID: long (nullable = true)\n",
            " |-- Name: string (nullable = true)\n",
            " |-- Age: long (nullable = true)\n",
            " |-- Salary: long (nullable = true)\n",
            "\n"
          ]
        }
      ]
    },
    {
      "cell_type": "code",
      "source": [
        "df.columns"
      ],
      "metadata": {
        "colab": {
          "base_uri": "https://localhost:8080/"
        },
        "id": "WSD4nulPgQOx",
        "outputId": "e1bdb3df-d272-4bb5-8914-d0069f6770b0"
      },
      "execution_count": null,
      "outputs": [
        {
          "output_type": "execute_result",
          "data": {
            "text/plain": [
              "['ID', 'Name', 'Age']"
            ]
          },
          "metadata": {},
          "execution_count": 19
        }
      ]
    },
    {
      "cell_type": "code",
      "source": [
        "df.describe().show()"
      ],
      "metadata": {
        "colab": {
          "base_uri": "https://localhost:8080/"
        },
        "id": "QKLz1kDRgWxQ",
        "outputId": "def47fe6-d7a0-421c-ee9a-3c832b6bfdd0"
      },
      "execution_count": null,
      "outputs": [
        {
          "output_type": "stream",
          "name": "stdout",
          "text": [
            "+-------+---+-------+----+\n",
            "|summary| ID|   Name| Age|\n",
            "+-------+---+-------+----+\n",
            "|  count|  3|      3|   3|\n",
            "|   mean|2.0|   NULL|30.0|\n",
            "| stddev|1.0|   NULL| 5.0|\n",
            "|    min|  1|  Alice|  25|\n",
            "|    max|  3|Charlie|  35|\n",
            "+-------+---+-------+----+\n",
            "\n"
          ]
        }
      ]
    },
    {
      "cell_type": "code",
      "source": [
        "df = df.withColumn(\"Bonus\", df[\"Salary\"] * 0.1)"
      ],
      "metadata": {
        "id": "VTlpbORNgkMF"
      },
      "execution_count": null,
      "outputs": []
    },
    {
      "cell_type": "code",
      "source": [
        "df.show()"
      ],
      "metadata": {
        "colab": {
          "base_uri": "https://localhost:8080/"
        },
        "id": "HA5L7wqihZw4",
        "outputId": "3dc1ac59-087c-444c-9ab2-0cd0d3da06fd"
      },
      "execution_count": null,
      "outputs": [
        {
          "output_type": "stream",
          "name": "stdout",
          "text": [
            "+---+-------+---+------+-----+\n",
            "| ID|   Name|Age|Salary|Bonus|\n",
            "+---+-------+---+------+-----+\n",
            "|  1|  Alice| 25|  5000|500.0|\n",
            "|  2|    Bob| 30|  6000|600.0|\n",
            "|  3|Charlie| 35|  7000|700.0|\n",
            "+---+-------+---+------+-----+\n",
            "\n"
          ]
        }
      ]
    },
    {
      "cell_type": "code",
      "source": [
        "from pyspark.sql.functions import col\n",
        "\n",
        "df.select(col(\"salary\")) # Use col instead of Col"
      ],
      "metadata": {
        "colab": {
          "base_uri": "https://localhost:8080/"
        },
        "id": "znlTiNL4hbaA",
        "outputId": "ee58bc06-860a-4ce2-f232-315ebdcad386"
      },
      "execution_count": null,
      "outputs": [
        {
          "output_type": "execute_result",
          "data": {
            "text/plain": [
              "DataFrame[salary: bigint]"
            ]
          },
          "metadata": {},
          "execution_count": 36
        }
      ]
    },
    {
      "cell_type": "code",
      "source": [],
      "metadata": {
        "id": "iRGH-l3pjIdp"
      },
      "execution_count": null,
      "outputs": []
    },
    {
      "cell_type": "markdown",
      "source": [
        "How to Create a  explicitly Schema\n"
      ],
      "metadata": {
        "id": "Shv9FyFhjo5b"
      }
    },
    {
      "cell_type": "code",
      "source": [
        "from pyspark.sql import SparkSession\n",
        "from pyspark.sql.types import StructType, StructField, StringType, IntegerType, LongType #Import LongType"
      ],
      "metadata": {
        "id": "OzaKl2Ipj4pI"
      },
      "execution_count": null,
      "outputs": []
    },
    {
      "cell_type": "markdown",
      "source": [
        "# Initialize Spark Session"
      ],
      "metadata": {
        "id": "L3AGBteWkUd1"
      }
    },
    {
      "cell_type": "code",
      "source": [
        "spark = SparkSession.builder.appName(\"Basic\").getOrCreate()"
      ],
      "metadata": {
        "id": "pNquj9vZkIJx"
      },
      "execution_count": null,
      "outputs": []
    },
    {
      "cell_type": "markdown",
      "source": [
        "# Define Schema with BIGINT (LongType in PySpark)"
      ],
      "metadata": {
        "id": "Nf_rqTRekWgn"
      }
    },
    {
      "cell_type": "code",
      "source": [
        "schema = StructType([\n",
        "    StructField(\"ID\", LongType(), True),        # BIGINT equivalent\n",
        "    StructField(\"Name\", StringType(), True),\n",
        "    StructField(\"Age\", IntegerType(), True),\n",
        "    StructField(\"Salary\", LongType(), True)     # BIGINT equivalent\n",
        "])\n",
        "\n",
        "# Define Data\n",
        "data = [(1, \"Jai\", 25, 5000),\n",
        "        (2, \"Kumar\", 30, 6000),\n",
        "        (3, \"Sam\", 35, 7000),\n",
        "        (4, \"Hari\", 29, 5500)]"
      ],
      "metadata": {
        "id": "TKhzJo_ckLPX"
      },
      "execution_count": null,
      "outputs": []
    },
    {
      "cell_type": "markdown",
      "source": [],
      "metadata": {
        "id": "qtpJJnVUG5gw"
      }
    },
    {
      "cell_type": "code",
      "source": [
        "spark = spark.createDataFrame(data, schema)"
      ],
      "metadata": {
        "id": "Lg2SlfwdkpKl"
      },
      "execution_count": null,
      "outputs": []
    },
    {
      "cell_type": "code",
      "source": [
        "spark.show()"
      ],
      "metadata": {
        "colab": {
          "base_uri": "https://localhost:8080/"
        },
        "id": "-ohfX31hlHEn",
        "outputId": "952ed17b-4455-474f-dca4-ab3829ab4467"
      },
      "execution_count": null,
      "outputs": [
        {
          "output_type": "stream",
          "name": "stdout",
          "text": [
            "+---+-----+---+------+\n",
            "| ID| Name|Age|Salary|\n",
            "+---+-----+---+------+\n",
            "|  1|  Jai| 25|  5000|\n",
            "|  2|Kumar| 30|  6000|\n",
            "|  3|  Sam| 35|  7000|\n",
            "|  4| Hari| 29|  5500|\n",
            "+---+-----+---+------+\n",
            "\n"
          ]
        }
      ]
    },
    {
      "cell_type": "code",
      "source": [
        "spark.printSchema()"
      ],
      "metadata": {
        "colab": {
          "base_uri": "https://localhost:8080/"
        },
        "id": "IZOrbwrYlI86",
        "outputId": "acdd6b6b-dfc5-41c7-a10a-4345ce14d59b"
      },
      "execution_count": null,
      "outputs": [
        {
          "output_type": "stream",
          "name": "stdout",
          "text": [
            "root\n",
            " |-- ID: long (nullable = true)\n",
            " |-- Name: string (nullable = true)\n",
            " |-- Age: integer (nullable = true)\n",
            " |-- Salary: long (nullable = true)\n",
            "\n"
          ]
        }
      ]
    },
    {
      "cell_type": "code",
      "source": [
        "spark.columns"
      ],
      "metadata": {
        "colab": {
          "base_uri": "https://localhost:8080/"
        },
        "id": "Rc13_768lPz2",
        "outputId": "d1287bce-2556-4009-bb4a-61314740b8db"
      },
      "execution_count": null,
      "outputs": [
        {
          "output_type": "execute_result",
          "data": {
            "text/plain": [
              "['ID', 'Name', 'Age', 'Salary']"
            ]
          },
          "metadata": {},
          "execution_count": 50
        }
      ]
    },
    {
      "cell_type": "code",
      "source": [
        "spark.dtypes"
      ],
      "metadata": {
        "colab": {
          "base_uri": "https://localhost:8080/"
        },
        "id": "qB9JREk1lWdL",
        "outputId": "8b1c2fbe-d97b-47a0-ec74-e9b2ede4043b"
      },
      "execution_count": null,
      "outputs": [
        {
          "output_type": "execute_result",
          "data": {
            "text/plain": [
              "[('ID', 'bigint'), ('Name', 'string'), ('Age', 'int'), ('Salary', 'bigint')]"
            ]
          },
          "metadata": {},
          "execution_count": 51
        }
      ]
    },
    {
      "cell_type": "code",
      "source": [
        "spark = spark.withColumn(\"Bonus\", spark[\"Salary\"] * 0.2)"
      ],
      "metadata": {
        "id": "AmCNrIVklZDM"
      },
      "execution_count": null,
      "outputs": []
    },
    {
      "cell_type": "code",
      "source": [
        "spark.show()"
      ],
      "metadata": {
        "colab": {
          "base_uri": "https://localhost:8080/"
        },
        "id": "6kydZqrelmNP",
        "outputId": "b4414a47-cb1d-44e2-e5b5-03c0de4957c7"
      },
      "execution_count": null,
      "outputs": [
        {
          "output_type": "stream",
          "name": "stdout",
          "text": [
            "+---+-----+------+------+------+\n",
            "| ID| Name|Age_no|Salary| Bonus|\n",
            "+---+-----+------+------+------+\n",
            "|  1|  Jai|    25|  5000|1000.0|\n",
            "|  2|Kumar|    30|  6000|1200.0|\n",
            "|  3|  Sam|    35|  7000|1400.0|\n",
            "|  4| Hari|    29|  5500|1100.0|\n",
            "+---+-----+------+------+------+\n",
            "\n"
          ]
        }
      ]
    },
    {
      "cell_type": "code",
      "source": [
        "\n",
        "spark.select(\"Name\",\"Age\").show()"
      ],
      "metadata": {
        "colab": {
          "base_uri": "https://localhost:8080/"
        },
        "id": "dhkwwusblxLk",
        "outputId": "ead3b781-faa5-4812-d638-b5bd14dc11dc"
      },
      "execution_count": null,
      "outputs": [
        {
          "output_type": "stream",
          "name": "stdout",
          "text": [
            "+-----+---+\n",
            "| Name|Age|\n",
            "+-----+---+\n",
            "|  Jai| 25|\n",
            "|Kumar| 30|\n",
            "|  Sam| 35|\n",
            "| Hari| 29|\n",
            "+-----+---+\n",
            "\n"
          ]
        }
      ]
    },
    {
      "cell_type": "code",
      "source": [
        "df.show()"
      ],
      "metadata": {
        "colab": {
          "base_uri": "https://localhost:8080/"
        },
        "id": "tiG5CO4jmHUb",
        "outputId": "3d798180-b7f4-40c8-a6b7-a2452fa0d869"
      },
      "execution_count": null,
      "outputs": [
        {
          "output_type": "stream",
          "name": "stdout",
          "text": [
            "+---+-------+---+------+-----+\n",
            "| ID|   Name|Age|Salary|Bonus|\n",
            "+---+-------+---+------+-----+\n",
            "|  1|  Alice| 25|  5000|500.0|\n",
            "|  2|    Bob| 30|  6000|600.0|\n",
            "|  3|Charlie| 35|  7000|700.0|\n",
            "+---+-------+---+------+-----+\n",
            "\n"
          ]
        }
      ]
    },
    {
      "cell_type": "code",
      "source": [
        "spark.show()"
      ],
      "metadata": {
        "colab": {
          "base_uri": "https://localhost:8080/"
        },
        "id": "onn1DU_PybO_",
        "outputId": "010ee5c3-ba76-4040-e6f0-217ca84e4555"
      },
      "execution_count": null,
      "outputs": [
        {
          "output_type": "stream",
          "name": "stdout",
          "text": [
            "+---+-----+---+------+------+\n",
            "| ID| Name|Age|Salary| Bonus|\n",
            "+---+-----+---+------+------+\n",
            "|  1|  Jai| 25|  5000|1000.0|\n",
            "|  2|Kumar| 30|  6000|1200.0|\n",
            "|  3|  Sam| 35|  7000|1400.0|\n",
            "|  4| Hari| 29|  5500|1100.0|\n",
            "+---+-----+---+------+------+\n",
            "\n"
          ]
        }
      ]
    },
    {
      "cell_type": "code",
      "source": [
        "spark = spark.withColumnRenamed(\"Age\", \"Age_no\")"
      ],
      "metadata": {
        "id": "4o-K2RDcyiVM"
      },
      "execution_count": null,
      "outputs": []
    },
    {
      "cell_type": "code",
      "source": [
        "spark.show()"
      ],
      "metadata": {
        "colab": {
          "base_uri": "https://localhost:8080/"
        },
        "id": "axGUvhcmyuU2",
        "outputId": "b5f72ecc-53bf-4aa5-a3b5-395b9baadb15"
      },
      "execution_count": null,
      "outputs": [
        {
          "output_type": "stream",
          "name": "stdout",
          "text": [
            "+---+-----+------+------+\n",
            "| ID| Name|Age_no|Salary|\n",
            "+---+-----+------+------+\n",
            "|  1|  Jai|    25|  5000|\n",
            "|  2|Kumar|    30|  6000|\n",
            "|  3|  Sam|    35|  7000|\n",
            "|  4| Hari|    29|  5500|\n",
            "+---+-----+------+------+\n",
            "\n"
          ]
        }
      ]
    },
    {
      "cell_type": "code",
      "source": [
        "spark.filter(spark.Age_no >= 30).show()"
      ],
      "metadata": {
        "colab": {
          "base_uri": "https://localhost:8080/"
        },
        "id": "jfOADwtJyv9F",
        "outputId": "8345e5ef-adbd-4854-ba67-3076e64ce599"
      },
      "execution_count": null,
      "outputs": [
        {
          "output_type": "stream",
          "name": "stdout",
          "text": [
            "+---+-----+------+------+------+\n",
            "| ID| Name|Age_no|Salary| Bonus|\n",
            "+---+-----+------+------+------+\n",
            "|  2|Kumar|    30|  6000|1200.0|\n",
            "|  3|  Sam|    35|  7000|1400.0|\n",
            "+---+-----+------+------+------+\n",
            "\n"
          ]
        }
      ]
    },
    {
      "cell_type": "code",
      "source": [
        "spark.select(col(\"Name\")).show()"
      ],
      "metadata": {
        "colab": {
          "base_uri": "https://localhost:8080/"
        },
        "id": "qnf-T71gy6Ds",
        "outputId": "3d86717d-ff4c-4a44-d042-a83a08f5dfed"
      },
      "execution_count": null,
      "outputs": [
        {
          "output_type": "stream",
          "name": "stdout",
          "text": [
            "+-----+\n",
            "| Name|\n",
            "+-----+\n",
            "|  Jai|\n",
            "|Kumar|\n",
            "|  Sam|\n",
            "| Hari|\n",
            "+-----+\n",
            "\n"
          ]
        }
      ]
    },
    {
      "cell_type": "code",
      "source": [
        "spark_session = SparkSession.builder.appName(\"Basic\").getOrCreate()\n",
        "new_data = [(5, \"Alice\", 34, 5500)]\n",
        "new_df = spark_session.createDataFrame(new_data, schema=schema)\n"
      ],
      "metadata": {
        "id": "ToImAd_LzTfw"
      },
      "execution_count": null,
      "outputs": []
    },
    {
      "cell_type": "code",
      "source": [
        "new_data = [(5, \"Alice\", 34, 5500)]\n",
        "new_df = spark_session.createDataFrame(new_data, schema=schema)"
      ],
      "metadata": {
        "id": "YDm--4mRztRY"
      },
      "execution_count": null,
      "outputs": []
    },
    {
      "cell_type": "code",
      "source": [
        "new_df.show()"
      ],
      "metadata": {
        "colab": {
          "base_uri": "https://localhost:8080/"
        },
        "id": "Mm9buzL74ZTu",
        "outputId": "4fd5067b-6898-4a2f-fd61-29e97f9119b1"
      },
      "execution_count": null,
      "outputs": [
        {
          "output_type": "stream",
          "name": "stdout",
          "text": [
            "+---+-----+---+------+\n",
            "| ID| Name|Age|Salary|\n",
            "+---+-----+---+------+\n",
            "|  5|Alice| 34|  5500|\n",
            "+---+-----+---+------+\n",
            "\n"
          ]
        }
      ]
    },
    {
      "cell_type": "code",
      "source": [
        "new_df = new_df.withColumn(\"Bonus\", new_df[\"Salary\"] * 0.2)\n",
        "new_df = new_df.withColumnRenamed(\"Age\", \"Age_no\")\n",
        "new_df.show()"
      ],
      "metadata": {
        "colab": {
          "base_uri": "https://localhost:8080/"
        },
        "id": "l-VXdnYq4eFo",
        "outputId": "06dd9fcf-fd34-4c2c-b664-525e0309cdeb"
      },
      "execution_count": null,
      "outputs": [
        {
          "output_type": "stream",
          "name": "stdout",
          "text": [
            "+---+-----+------+------+------+\n",
            "| ID| Name|Age_no|Salary| Bonus|\n",
            "+---+-----+------+------+------+\n",
            "|  5|Alice|    34|  5500|1100.0|\n",
            "+---+-----+------+------+------+\n",
            "\n"
          ]
        }
      ]
    },
    {
      "cell_type": "code",
      "source": [
        "spark = spark.union(new_df)"
      ],
      "metadata": {
        "id": "FMslPljz4uE1"
      },
      "execution_count": null,
      "outputs": []
    },
    {
      "cell_type": "code",
      "source": [
        "spark.show()"
      ],
      "metadata": {
        "colab": {
          "base_uri": "https://localhost:8080/"
        },
        "id": "ujE95iyw4xV5",
        "outputId": "0c5e8738-5320-43bd-be1d-894af8ce15c8"
      },
      "execution_count": null,
      "outputs": [
        {
          "output_type": "stream",
          "name": "stdout",
          "text": [
            "+---+-----+------+------+------+\n",
            "| ID| Name|Age_no|Salary| Bonus|\n",
            "+---+-----+------+------+------+\n",
            "|  1|  Jai|    25|  5000|1000.0|\n",
            "|  2|Kumar|    30|  6000|1200.0|\n",
            "|  3|  Sam|    35|  7000|1400.0|\n",
            "|  4| Hari|    29|  5500|1100.0|\n",
            "|  5|Alice|    34|  5500|1100.0|\n",
            "+---+-----+------+------+------+\n",
            "\n"
          ]
        }
      ]
    },
    {
      "cell_type": "code",
      "source": [
        "from pyspark.sql.functions import when, col # Import the 'when' function\n",
        "\n",
        "spark = spark.withColumn(\n",
        "    \"City\",\n",
        "    when(col(\"Age_no\") < 27, \"New York\")\n",
        "    .when(col(\"Age_no\") < 32, \"Los Angeles\")\n",
        "    .when(col(\"Age_no\") < 36, \"Chicago\")\n",
        "    .otherwise(\"Houston\")\n",
        ")"
      ],
      "metadata": {
        "id": "zQRqJ1cI4ysW"
      },
      "execution_count": null,
      "outputs": []
    },
    {
      "cell_type": "code",
      "source": [
        "spark.show()"
      ],
      "metadata": {
        "colab": {
          "base_uri": "https://localhost:8080/"
        },
        "id": "NAfIceCk5xxs",
        "outputId": "4378ffef-855c-4def-de65-fe8cc1486b4d"
      },
      "execution_count": null,
      "outputs": [
        {
          "output_type": "stream",
          "name": "stdout",
          "text": [
            "+---+-----+------+------+------+-----------+\n",
            "| ID| Name|Age_no|Salary| Bonus|       City|\n",
            "+---+-----+------+------+------+-----------+\n",
            "|  1|  Jai|    25|  5000|1000.0|   New York|\n",
            "|  2|Kumar|    30|  6000|1200.0|Los Angeles|\n",
            "|  3|  Sam|    35|  7000|1400.0|    Chicago|\n",
            "|  4| Hari|    29|  5500|1100.0|Los Angeles|\n",
            "|  5|Alice|    34|  5500|1100.0|    Chicago|\n",
            "+---+-----+------+------+------+-----------+\n",
            "\n"
          ]
        }
      ]
    },
    {
      "cell_type": "code",
      "source": [
        "spark.filter(spark.Age_no >= 30).show()"
      ],
      "metadata": {
        "colab": {
          "base_uri": "https://localhost:8080/"
        },
        "id": "rRe0pqUL59V5",
        "outputId": "9163cb9c-67c9-4f33-fe23-058309ce75c3"
      },
      "execution_count": null,
      "outputs": [
        {
          "output_type": "stream",
          "name": "stdout",
          "text": [
            "+---+-----+------+------+------+-----------+\n",
            "| ID| Name|Age_no|Salary| Bonus|       City|\n",
            "+---+-----+------+------+------+-----------+\n",
            "|  2|Kumar|    30|  6000|1200.0|Los Angeles|\n",
            "|  3|  Sam|    35|  7000|1400.0|    Chicago|\n",
            "|  5|Alice|    34|  5500|1100.0|    Chicago|\n",
            "+---+-----+------+------+------+-----------+\n",
            "\n"
          ]
        }
      ]
    },
    {
      "cell_type": "code",
      "source": [
        "spark.filter(spark.City == \"New York\").show()"
      ],
      "metadata": {
        "colab": {
          "base_uri": "https://localhost:8080/"
        },
        "id": "2A55dNwh8K3C",
        "outputId": "8f020ddb-a123-46e7-c454-ba74f31d438e"
      },
      "execution_count": null,
      "outputs": [
        {
          "output_type": "stream",
          "name": "stdout",
          "text": [
            "+---+----+------+------+------+--------+\n",
            "| ID|Name|Age_no|Salary| Bonus|    City|\n",
            "+---+----+------+------+------+--------+\n",
            "|  1| Jai|    25|  5000|1000.0|New York|\n",
            "+---+----+------+------+------+--------+\n",
            "\n"
          ]
        }
      ]
    },
    {
      "cell_type": "code",
      "source": [
        "spark.where((spark.Age_no > 30) & (spark.City == \"Chicago\")).show()"
      ],
      "metadata": {
        "colab": {
          "base_uri": "https://localhost:8080/",
          "height": 141
        },
        "id": "Lu0d4y648S2X",
        "outputId": "54a58f77-4d98-491b-bce9-994dc783bb2a"
      },
      "execution_count": null,
      "outputs": [
        {
          "output_type": "error",
          "ename": "AttributeError",
          "evalue": "'NoneType' object has no attribute 'where'",
          "traceback": [
            "\u001b[0;31m---------------------------------------------------------------------------\u001b[0m",
            "\u001b[0;31mAttributeError\u001b[0m                            Traceback (most recent call last)",
            "\u001b[0;32m<ipython-input-131-08a50aafd5c6>\u001b[0m in \u001b[0;36m<cell line: 0>\u001b[0;34m()\u001b[0m\n\u001b[0;32m----> 1\u001b[0;31m \u001b[0mspark\u001b[0m\u001b[0;34m.\u001b[0m\u001b[0mwhere\u001b[0m\u001b[0;34m(\u001b[0m\u001b[0;34m(\u001b[0m\u001b[0mspark\u001b[0m\u001b[0;34m.\u001b[0m\u001b[0mAge_no\u001b[0m \u001b[0;34m>\u001b[0m \u001b[0;36m30\u001b[0m\u001b[0;34m)\u001b[0m \u001b[0;34m&\u001b[0m \u001b[0;34m(\u001b[0m\u001b[0mspark\u001b[0m\u001b[0;34m.\u001b[0m\u001b[0mCity\u001b[0m \u001b[0;34m==\u001b[0m \u001b[0;34m\"Chicago\"\u001b[0m\u001b[0;34m)\u001b[0m\u001b[0;34m)\u001b[0m\u001b[0;34m.\u001b[0m\u001b[0mshow\u001b[0m\u001b[0;34m(\u001b[0m\u001b[0;34m)\u001b[0m\u001b[0;34m\u001b[0m\u001b[0;34m\u001b[0m\u001b[0m\n\u001b[0m",
            "\u001b[0;31mAttributeError\u001b[0m: 'NoneType' object has no attribute 'where'"
          ]
        }
      ]
    },
    {
      "cell_type": "code",
      "source": [
        "from pyspark.sql.functions import sum,avg,count,min,max"
      ],
      "metadata": {
        "id": "pOY2qCLh8hYJ"
      },
      "execution_count": null,
      "outputs": []
    },
    {
      "cell_type": "markdown",
      "source": [
        "Asc and Desc order"
      ],
      "metadata": {
        "id": "prWhciloEAJD"
      }
    },
    {
      "cell_type": "code",
      "source": [
        "from pyspark.sql.functions import asc, desc # Import asc and desc, not sort\n"
      ],
      "metadata": {
        "id": "BmDtChu29T2Q"
      },
      "execution_count": null,
      "outputs": []
    },
    {
      "cell_type": "code",
      "source": [
        "spark = spark.sort(col(\"Age_no\").desc()).show() # Sort the 'spark' DataFrame, which has the 'Age_no' column # Sort and store the result"
      ],
      "metadata": {
        "colab": {
          "base_uri": "https://localhost:8080/",
          "height": 158
        },
        "id": "AyZefdNdEHrP",
        "outputId": "3f917b01-e011-45ac-f660-2e8d18b2d3d6"
      },
      "execution_count": null,
      "outputs": [
        {
          "output_type": "error",
          "ename": "AttributeError",
          "evalue": "'NoneType' object has no attribute 'sort'",
          "traceback": [
            "\u001b[0;31m---------------------------------------------------------------------------\u001b[0m",
            "\u001b[0;31mAttributeError\u001b[0m                            Traceback (most recent call last)",
            "\u001b[0;32m<ipython-input-129-0e8f42b57d20>\u001b[0m in \u001b[0;36m<cell line: 0>\u001b[0;34m()\u001b[0m\n\u001b[0;32m----> 1\u001b[0;31m \u001b[0mspark\u001b[0m \u001b[0;34m=\u001b[0m \u001b[0mspark\u001b[0m\u001b[0;34m.\u001b[0m\u001b[0msort\u001b[0m\u001b[0;34m(\u001b[0m\u001b[0mcol\u001b[0m\u001b[0;34m(\u001b[0m\u001b[0;34m\"Age_no\"\u001b[0m\u001b[0;34m)\u001b[0m\u001b[0;34m.\u001b[0m\u001b[0mdesc\u001b[0m\u001b[0;34m(\u001b[0m\u001b[0;34m)\u001b[0m\u001b[0;34m)\u001b[0m\u001b[0;34m.\u001b[0m\u001b[0mshow\u001b[0m\u001b[0;34m(\u001b[0m\u001b[0;34m)\u001b[0m \u001b[0;31m# Sort the 'spark' DataFrame, which has the 'Age_no' column # Sort and store the result\u001b[0m\u001b[0;34m\u001b[0m\u001b[0;34m\u001b[0m\u001b[0m\n\u001b[0m",
            "\u001b[0;31mAttributeError\u001b[0m: 'NoneType' object has no attribute 'sort'"
          ]
        }
      ]
    },
    {
      "cell_type": "code",
      "source": [
        "spark.show()"
      ],
      "metadata": {
        "colab": {
          "base_uri": "https://localhost:8080/",
          "height": 141
        },
        "id": "fz1Ke0J2EwOE",
        "outputId": "771b4be3-9d0f-4e24-e1d9-06cadaf4e113"
      },
      "execution_count": null,
      "outputs": [
        {
          "output_type": "error",
          "ename": "AttributeError",
          "evalue": "'NoneType' object has no attribute 'show'",
          "traceback": [
            "\u001b[0;31m---------------------------------------------------------------------------\u001b[0m",
            "\u001b[0;31mAttributeError\u001b[0m                            Traceback (most recent call last)",
            "\u001b[0;32m<ipython-input-146-c6414f168cc0>\u001b[0m in \u001b[0;36m<cell line: 0>\u001b[0;34m()\u001b[0m\n\u001b[0;32m----> 1\u001b[0;31m \u001b[0mspark\u001b[0m\u001b[0;34m.\u001b[0m\u001b[0mshow\u001b[0m\u001b[0;34m(\u001b[0m\u001b[0;34m)\u001b[0m\u001b[0;34m\u001b[0m\u001b[0;34m\u001b[0m\u001b[0m\n\u001b[0m",
            "\u001b[0;31mAttributeError\u001b[0m: 'NoneType' object has no attribute 'show'"
          ]
        }
      ]
    },
    {
      "cell_type": "code",
      "source": [
        "spark = spark.sort(spark.Age.desc()).show()"
      ],
      "metadata": {
        "colab": {
          "base_uri": "https://localhost:8080/",
          "height": 141
        },
        "id": "VvyfEVG8GnHr",
        "outputId": "56259466-6025-42a5-e6b3-4cee214dba25"
      },
      "execution_count": null,
      "outputs": [
        {
          "output_type": "error",
          "ename": "AttributeError",
          "evalue": "'NoneType' object has no attribute 'sort'",
          "traceback": [
            "\u001b[0;31m---------------------------------------------------------------------------\u001b[0m",
            "\u001b[0;31mAttributeError\u001b[0m                            Traceback (most recent call last)",
            "\u001b[0;32m<ipython-input-145-220013781649>\u001b[0m in \u001b[0;36m<cell line: 0>\u001b[0;34m()\u001b[0m\n\u001b[0;32m----> 1\u001b[0;31m \u001b[0mspark\u001b[0m \u001b[0;34m=\u001b[0m \u001b[0mspark\u001b[0m\u001b[0;34m.\u001b[0m\u001b[0msort\u001b[0m\u001b[0;34m(\u001b[0m\u001b[0mspark\u001b[0m\u001b[0;34m.\u001b[0m\u001b[0mAge\u001b[0m\u001b[0;34m.\u001b[0m\u001b[0mdesc\u001b[0m\u001b[0;34m(\u001b[0m\u001b[0;34m)\u001b[0m\u001b[0;34m)\u001b[0m\u001b[0;34m.\u001b[0m\u001b[0mshow\u001b[0m\u001b[0;34m(\u001b[0m\u001b[0;34m)\u001b[0m\u001b[0;34m\u001b[0m\u001b[0;34m\u001b[0m\u001b[0m\n\u001b[0m",
            "\u001b[0;31mAttributeError\u001b[0m: 'NoneType' object has no attribute 'sort'"
          ]
        }
      ]
    },
    {
      "cell_type": "code",
      "source": [
        "spark = spark.sort(col(\"Age\").asc()).show()"
      ],
      "metadata": {
        "colab": {
          "base_uri": "https://localhost:8080/"
        },
        "id": "mfn02TOYHDoF",
        "outputId": "f580f9b2-338d-426a-e934-117fb81308c9"
      },
      "execution_count": null,
      "outputs": [
        {
          "output_type": "stream",
          "name": "stdout",
          "text": [
            "+---+-----+---+------+\n",
            "| ID| Name|Age|Salary|\n",
            "+---+-----+---+------+\n",
            "|  1|  Jai| 25|  5000|\n",
            "|  4| Hari| 29|  5500|\n",
            "|  2|Kumar| 30|  6000|\n",
            "|  3|  Sam| 35|  7000|\n",
            "+---+-----+---+------+\n",
            "\n"
          ]
        }
      ]
    },
    {
      "cell_type": "code",
      "source": [
        "from pyspark.sql.functions import sum,avg,count,min,max\n",
        "from pyspark.sql.functions import avg"
      ],
      "metadata": {
        "id": "Tf72AHTzHPUJ"
      },
      "execution_count": null,
      "outputs": []
    },
    {
      "cell_type": "code",
      "source": [
        "spark.show()"
      ],
      "metadata": {
        "colab": {
          "base_uri": "https://localhost:8080/"
        },
        "id": "ugEVqRkDHjEh",
        "outputId": "feb90b20-fa6d-4ffa-959a-03ef800b9ca7"
      },
      "execution_count": null,
      "outputs": [
        {
          "output_type": "stream",
          "name": "stdout",
          "text": [
            "+---+-----+------+------+------+-----------+\n",
            "| ID| Name|Age_no|Salary| Bonus|       City|\n",
            "+---+-----+------+------+------+-----------+\n",
            "|  1|  Jai|    25|  5000|1000.0|   New York|\n",
            "|  2|Kumar|    30|  6000|1200.0|Los Angeles|\n",
            "|  3|  Sam|    35|  7000|1400.0|    Chicago|\n",
            "|  4| Hari|    29|  5500|1100.0|Los Angeles|\n",
            "|  5|Alice|    34|  5500|1100.0|    Chicago|\n",
            "+---+-----+------+------+------+-----------+\n",
            "\n"
          ]
        }
      ]
    },
    {
      "cell_type": "code",
      "source": [
        "spark.select(avg(\"Salary\")).show()"
      ],
      "metadata": {
        "colab": {
          "base_uri": "https://localhost:8080/"
        },
        "id": "goF6Ei7rHkWt",
        "outputId": "f82bf339-c08c-44b9-d0f2-96c991555fd8"
      },
      "execution_count": null,
      "outputs": [
        {
          "output_type": "stream",
          "name": "stdout",
          "text": [
            "+-----------+\n",
            "|avg(Salary)|\n",
            "+-----------+\n",
            "|     5800.0|\n",
            "+-----------+\n",
            "\n"
          ]
        }
      ]
    },
    {
      "cell_type": "code",
      "source": [
        "spark.select(sum(\"Salary\")).show()"
      ],
      "metadata": {
        "colab": {
          "base_uri": "https://localhost:8080/"
        },
        "id": "r7LNQDF8KVzf",
        "outputId": "ea4d0cc6-98e4-4e3b-fccf-94ab1f0238fb"
      },
      "execution_count": null,
      "outputs": [
        {
          "output_type": "stream",
          "name": "stdout",
          "text": [
            "+-----------+\n",
            "|sum(Salary)|\n",
            "+-----------+\n",
            "|      29000|\n",
            "+-----------+\n",
            "\n"
          ]
        }
      ]
    },
    {
      "cell_type": "code",
      "source": [
        "spark.select(min(\"Age_no\"),max(\"Age_no\") ).show()"
      ],
      "metadata": {
        "colab": {
          "base_uri": "https://localhost:8080/"
        },
        "id": "cFtm9dwWKbOx",
        "outputId": "f3e64547-4330-426a-f68a-631d8d558027"
      },
      "execution_count": null,
      "outputs": [
        {
          "output_type": "stream",
          "name": "stdout",
          "text": [
            "+-----------+-----------+\n",
            "|min(Age_no)|max(Age_no)|\n",
            "+-----------+-----------+\n",
            "|         25|         35|\n",
            "+-----------+-----------+\n",
            "\n"
          ]
        }
      ]
    },
    {
      "cell_type": "code",
      "source": [
        "spark.groupBy(\"City\").count().show()"
      ],
      "metadata": {
        "colab": {
          "base_uri": "https://localhost:8080/"
        },
        "id": "xBmgv1ovKmao",
        "outputId": "287aff07-f379-4dd0-8f2b-27293b56cf50"
      },
      "execution_count": null,
      "outputs": [
        {
          "output_type": "stream",
          "name": "stdout",
          "text": [
            "+-----------+-----+\n",
            "|       City|count|\n",
            "+-----------+-----+\n",
            "|Los Angeles|    2|\n",
            "|   New York|    1|\n",
            "|    Chicago|    2|\n",
            "+-----------+-----+\n",
            "\n"
          ]
        }
      ]
    },
    {
      "cell_type": "code",
      "source": [
        "spark.groupBy(\"City\").agg(avg(\"Salary\")).show()"
      ],
      "metadata": {
        "colab": {
          "base_uri": "https://localhost:8080/"
        },
        "id": "TVzzNtXtLgjF",
        "outputId": "8671972b-51ba-4daf-a6ed-4586d12bf448"
      },
      "execution_count": null,
      "outputs": [
        {
          "output_type": "stream",
          "name": "stdout",
          "text": [
            "+-----------+-----------+\n",
            "|       City|avg(Salary)|\n",
            "+-----------+-----------+\n",
            "|Los Angeles|     5750.0|\n",
            "|   New York|     5000.0|\n",
            "|    Chicago|     6250.0|\n",
            "+-----------+-----------+\n",
            "\n"
          ]
        }
      ]
    },
    {
      "cell_type": "code",
      "source": [
        "spark.groupBy(\"City\").sum(\"Salary\").show()"
      ],
      "metadata": {
        "colab": {
          "base_uri": "https://localhost:8080/"
        },
        "id": "BR8y3P0LMATM",
        "outputId": "f8ba990c-144d-43a8-c428-f2eb76f0e89b"
      },
      "execution_count": null,
      "outputs": [
        {
          "output_type": "stream",
          "name": "stdout",
          "text": [
            "+-----------+-----------+\n",
            "|       City|sum(Salary)|\n",
            "+-----------+-----------+\n",
            "|Los Angeles|      11500|\n",
            "|   New York|       5000|\n",
            "|    Chicago|      12500|\n",
            "+-----------+-----------+\n",
            "\n"
          ]
        }
      ]
    },
    {
      "cell_type": "code",
      "source": [
        "spark.groupBy(\"City\").agg(avg(\"Salary\").alias(\"Avg_Salary\")).show()"
      ],
      "metadata": {
        "colab": {
          "base_uri": "https://localhost:8080/"
        },
        "id": "au2uA5L1MPq-",
        "outputId": "240f1004-8201-4dcf-f1bb-2edf994426fb"
      },
      "execution_count": null,
      "outputs": [
        {
          "output_type": "stream",
          "name": "stdout",
          "text": [
            "+-----------+----------+\n",
            "|       City|Avg_Salary|\n",
            "+-----------+----------+\n",
            "|Los Angeles|    5750.0|\n",
            "|   New York|    5000.0|\n",
            "|    Chicago|    6250.0|\n",
            "+-----------+----------+\n",
            "\n"
          ]
        }
      ]
    },
    {
      "cell_type": "markdown",
      "source": [
        "Functions in pyspark\n",
        "1.String functions\n",
        "2.Numeric Functions\n",
        "3.Date & Time Functions\n",
        "4.Conditional Functions\n",
        "5.Windows Functions\n",
        "6. Agg functions"
      ],
      "metadata": {
        "id": "YHc6IA7eONnY"
      }
    },
    {
      "cell_type": "code",
      "source": [
        "from pyspark.sql.functions import lower,upper,length,trim,regexp_replace"
      ],
      "metadata": {
        "id": "ReFqwBoBOQSt"
      },
      "execution_count": null,
      "outputs": []
    },
    {
      "cell_type": "code",
      "source": [
        "data = [(\"jay \",),(\"kumar \",),(\"mithu \",)]\n",
        "function = spark_session.createDataFrame(data, [\"name\"])\n",
        "function.select (\n",
        "    col(\"name\"),\n",
        "    lower(col(\"name\")).alias(\"Lowercase\"),\n",
        "    upper(col(\"name\")).alias(\"Uppercase\"),\n",
        "    length(col(\"name\")).alias(\"Length\"),\n",
        "    trim(col(\"name\")).alias(\"Trimmed\"),\n",
        "    regexp_replace(col(\"name\"), \" \", \"_\").alias(\"Replaced\")\n",
        "    ).show()"
      ],
      "metadata": {
        "colab": {
          "base_uri": "https://localhost:8080/"
        },
        "id": "iTvzQLlzO6HS",
        "outputId": "cd9e486c-dd07-42c5-c19b-1d9a60c10410"
      },
      "execution_count": null,
      "outputs": [
        {
          "output_type": "stream",
          "name": "stdout",
          "text": [
            "+------+---------+---------+------+-------+--------+\n",
            "|  name|Lowercase|Uppercase|Length|Trimmed|Replaced|\n",
            "+------+---------+---------+------+-------+--------+\n",
            "|  jay |     jay |     JAY |     4|    jay|    jay_|\n",
            "|kumar |   kumar |   KUMAR |     6|  kumar|  kumar_|\n",
            "|mithu |   mithu |   MITHU |     6|  mithu|  mithu_|\n",
            "+------+---------+---------+------+-------+--------+\n",
            "\n"
          ]
        }
      ]
    },
    {
      "cell_type": "markdown",
      "source": [
        "Date Function\n"
      ],
      "metadata": {
        "id": "bktcCf0ZQbvI"
      }
    },
    {
      "cell_type": "code",
      "source": [
        "from pyspark.sql.functions import current_date, current_timestamp, date_add, datediff,date_sub"
      ],
      "metadata": {
        "id": "zixBnBjmPYD8"
      },
      "execution_count": null,
      "outputs": []
    },
    {
      "cell_type": "code",
      "source": [
        "from pyspark.sql import SparkSession\n",
        "from pyspark.sql.functions import current_date, current_timestamp, date_add, date_sub, datediff, lit\n",
        "\n",
        "# Create Spark session\n",
        "spark_session = SparkSession.builder.appName(\"DateFunctions\").getOrCreate()\n",
        "\n",
        "# Create a dummy DataFrame\n",
        "date = spark_session.createDataFrame([(1,)], [\"id\"])\n",
        "\n",
        "# Select date functions\n",
        "date.select(\n",
        "    current_date().alias(\"Current_Date\"),\n",
        "    current_timestamp().alias(\"Current_Timestamp\"),\n",
        "    date_add(current_date(), 10).alias(\"Date_Add\"),   # Adds 10 days\n",
        "    date_sub(current_date(), 5).alias(\"Date_Sub\"),    # Subtracts 5 days\n",
        "    datediff(current_date(), lit(\"2023-01-01\")).alias(\"Date_Diff\")  # Days difference\n",
        ").show()\n"
      ],
      "metadata": {
        "colab": {
          "base_uri": "https://localhost:8080/"
        },
        "id": "WyoKMTy4Q3-m",
        "outputId": "43afbe91-826e-402d-d0e6-f86a297793f7"
      },
      "execution_count": null,
      "outputs": [
        {
          "output_type": "stream",
          "name": "stdout",
          "text": [
            "+------------+--------------------+----------+----------+---------+\n",
            "|Current_Date|   Current_Timestamp|  Date_Add|  Date_Sub|Date_Diff|\n",
            "+------------+--------------------+----------+----------+---------+\n",
            "|  2025-02-13|2025-02-13 08:49:...|2025-02-23|2025-02-08|      774|\n",
            "+------------+--------------------+----------+----------+---------+\n",
            "\n"
          ]
        }
      ]
    },
    {
      "cell_type": "code",
      "source": [],
      "metadata": {
        "id": "UwvcL-I-fe_B"
      },
      "execution_count": null,
      "outputs": []
    },
    {
      "cell_type": "code",
      "source": [],
      "metadata": {
        "id": "odM1_14rgllq"
      },
      "execution_count": null,
      "outputs": []
    }
  ]
}