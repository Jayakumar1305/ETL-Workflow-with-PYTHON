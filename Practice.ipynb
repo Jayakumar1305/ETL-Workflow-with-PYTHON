{
  "nbformat": 4,
  "nbformat_minor": 0,
  "metadata": {
    "colab": {
      "provenance": [],
      "authorship_tag": "ABX9TyODGkHn/AfnarGrdiNuCP71",
      "include_colab_link": true
    },
    "kernelspec": {
      "name": "python3",
      "display_name": "Python 3"
    },
    "language_info": {
      "name": "python"
    }
  },
  "cells": [
    {
      "cell_type": "markdown",
      "metadata": {
        "id": "view-in-github",
        "colab_type": "text"
      },
      "source": [
        "<a href=\"https://colab.research.google.com/github/Jayakumar1305/ETL-Workflow-with-PYTHON/blob/main/Practice.ipynb\" target=\"_parent\"><img src=\"https://colab.research.google.com/assets/colab-badge.svg\" alt=\"Open In Colab\"/></a>"
      ]
    },
    {
      "cell_type": "code",
      "execution_count": null,
      "metadata": {
        "id": "0HpLGBcGe2IE"
      },
      "outputs": [],
      "source": []
    },
    {
      "cell_type": "code",
      "source": [],
      "metadata": {
        "id": "dfm-903ki-xa"
      },
      "execution_count": null,
      "outputs": []
    },
    {
      "cell_type": "code",
      "source": [
        "!pip install pyspark"
      ],
      "metadata": {
        "colab": {
          "base_uri": "https://localhost:8080/"
        },
        "id": "fbs_ikFpe5xf",
        "outputId": "867fcf35-c034-4d08-e819-ff28a2937dee"
      },
      "execution_count": null,
      "outputs": [
        {
          "output_type": "stream",
          "name": "stdout",
          "text": [
            "Requirement already satisfied: pyspark in /usr/local/lib/python3.11/dist-packages (3.5.4)\n",
            "Requirement already satisfied: py4j==0.10.9.7 in /usr/local/lib/python3.11/dist-packages (from pyspark) (0.10.9.7)\n"
          ]
        }
      ]
    },
    {
      "cell_type": "code",
      "source": [
        "from pyspark.sql import SparkSession\n",
        "from pyspark.sql import Row"
      ],
      "metadata": {
        "id": "fssFf8YDe6qg"
      },
      "execution_count": null,
      "outputs": []
    },
    {
      "cell_type": "code",
      "source": [
        "df = SparkSession.builder.appName(\"ColabPySpark\").getOrCreate()"
      ],
      "metadata": {
        "id": "gGUMwUCqfAAC"
      },
      "execution_count": null,
      "outputs": []
    },
    {
      "cell_type": "code",
      "source": [
        "data = [(1, \"Alice\", 25, 5000), (2, \"Bob\", 30, 6000), (3, \"Charlie\", 35, 7000)]\n",
        "columns = [\"ID\", \"Name\", \"Age\", \"Salary\"]\n",
        "\n",
        "df = df.createDataFrame(data, columns)\n"
      ],
      "metadata": {
        "id": "FZjlb4vPfBXn"
      },
      "execution_count": null,
      "outputs": []
    },
    {
      "cell_type": "code",
      "source": [
        "df.show()"
      ],
      "metadata": {
        "colab": {
          "base_uri": "https://localhost:8080/"
        },
        "id": "sK4lzTcfftim",
        "outputId": "b93fd064-6314-45e7-abc1-b49fec5113fd"
      },
      "execution_count": null,
      "outputs": [
        {
          "output_type": "stream",
          "name": "stdout",
          "text": [
            "+---+-------+---+------+\n",
            "| ID|   Name|Age|Salary|\n",
            "+---+-------+---+------+\n",
            "|  1|  Alice| 25|  5000|\n",
            "|  2|    Bob| 30|  6000|\n",
            "|  3|Charlie| 35|  7000|\n",
            "+---+-------+---+------+\n",
            "\n"
          ]
        }
      ]
    },
    {
      "cell_type": "code",
      "source": [
        "df.printSchema()"
      ],
      "metadata": {
        "colab": {
          "base_uri": "https://localhost:8080/"
        },
        "id": "fkmuGMZzgH3F",
        "outputId": "47288bc3-3287-4d3c-967e-f02ee632875b"
      },
      "execution_count": null,
      "outputs": [
        {
          "output_type": "stream",
          "name": "stdout",
          "text": [
            "root\n",
            " |-- ID: long (nullable = true)\n",
            " |-- Name: string (nullable = true)\n",
            " |-- Age: long (nullable = true)\n",
            " |-- Salary: long (nullable = true)\n",
            "\n"
          ]
        }
      ]
    },
    {
      "cell_type": "code",
      "source": [
        "df.columns"
      ],
      "metadata": {
        "colab": {
          "base_uri": "https://localhost:8080/"
        },
        "id": "WSD4nulPgQOx",
        "outputId": "e1bdb3df-d272-4bb5-8914-d0069f6770b0"
      },
      "execution_count": null,
      "outputs": [
        {
          "output_type": "execute_result",
          "data": {
            "text/plain": [
              "['ID', 'Name', 'Age']"
            ]
          },
          "metadata": {},
          "execution_count": 19
        }
      ]
    },
    {
      "cell_type": "code",
      "source": [
        "df.describe().show()"
      ],
      "metadata": {
        "colab": {
          "base_uri": "https://localhost:8080/"
        },
        "id": "QKLz1kDRgWxQ",
        "outputId": "def47fe6-d7a0-421c-ee9a-3c832b6bfdd0"
      },
      "execution_count": null,
      "outputs": [
        {
          "output_type": "stream",
          "name": "stdout",
          "text": [
            "+-------+---+-------+----+\n",
            "|summary| ID|   Name| Age|\n",
            "+-------+---+-------+----+\n",
            "|  count|  3|      3|   3|\n",
            "|   mean|2.0|   NULL|30.0|\n",
            "| stddev|1.0|   NULL| 5.0|\n",
            "|    min|  1|  Alice|  25|\n",
            "|    max|  3|Charlie|  35|\n",
            "+-------+---+-------+----+\n",
            "\n"
          ]
        }
      ]
    },
    {
      "cell_type": "code",
      "source": [
        "df = df.withColumn(\"Bonus\", df[\"Salary\"] * 0.1)"
      ],
      "metadata": {
        "id": "VTlpbORNgkMF"
      },
      "execution_count": null,
      "outputs": []
    },
    {
      "cell_type": "code",
      "source": [
        "df.show()"
      ],
      "metadata": {
        "colab": {
          "base_uri": "https://localhost:8080/"
        },
        "id": "HA5L7wqihZw4",
        "outputId": "3dc1ac59-087c-444c-9ab2-0cd0d3da06fd"
      },
      "execution_count": null,
      "outputs": [
        {
          "output_type": "stream",
          "name": "stdout",
          "text": [
            "+---+-------+---+------+-----+\n",
            "| ID|   Name|Age|Salary|Bonus|\n",
            "+---+-------+---+------+-----+\n",
            "|  1|  Alice| 25|  5000|500.0|\n",
            "|  2|    Bob| 30|  6000|600.0|\n",
            "|  3|Charlie| 35|  7000|700.0|\n",
            "+---+-------+---+------+-----+\n",
            "\n"
          ]
        }
      ]
    },
    {
      "cell_type": "code",
      "source": [
        "from pyspark.sql.functions import sum, min, max, count,avg # Removed 'add'\n",
        "\n",
        "# To perform addition, you can use the '+' operator on columns:\n",
        "# For example:\n",
        "# df.select(df[\"Salary\"] + df[\"Bonus\"]).show()"
      ],
      "metadata": {
        "id": "znlTiNL4hbaA"
      },
      "execution_count": null,
      "outputs": []
    },
    {
      "cell_type": "code",
      "source": [
        "from pyspark.sql import SparkSession\n",
        "from pyspark.sql.types import StructType, StructField, IntegerType, StringType, LongType\n",
        "\n",
        "# Initialize Spark Session\n",
        "spark = SparkSession.builder.appName(\"ColabPySpark\").getOrCreate()\n",
        "\n",
        "# Define Schema (Adding Bonus Column)\n",
        "schema = StructType([\n",
        "    StructField(\"ID\", LongType(), True),\n",
        "    StructField(\"Name\", StringType(), True),\n",
        "    StructField(\"Age\", IntegerType(), True),\n",
        "    StructField(\"Salary\", LongType(), True),\n",
        "    StructField(\"Bonus\", LongType(), True)  # Adding Bonus column\n",
        "])\n",
        "\n",
        "# Define Data\n",
        "data = [(1, \"Alice\", 25, 5000, 500),\n",
        "        (2, \"Bob\", 30, 6000, 600),\n",
        "        (3, \"Charlie\", 35, 7000, 700)]\n",
        "\n",
        "df = spark.createDataFrame(data, schema=schema)\n",
        "\n",
        "# New row(s) to add\n",
        "new_data = [(4, \"Eve\", 40, 8000, 800),\n",
        "            (5, \"David\", 45, 9000, 900)]  # Adding multiple rows\n",
        "\n",
        "new_df = spark.createDataFrame(new_data, schema=schema)\n",
        "\n",
        "# Append new rows using union()\n",
        "df = df.union(new_df)\n",
        "\n",
        "# Show Updated DataFrame\n",
        "df.show()\n"
      ],
      "metadata": {
        "colab": {
          "base_uri": "https://localhost:8080/"
        },
        "id": "HXw64fC9jh1-",
        "outputId": "c378f0e9-70a4-4ddb-ad6e-0bfe82df2ead"
      },
      "execution_count": null,
      "outputs": [
        {
          "output_type": "stream",
          "name": "stdout",
          "text": [
            "+---+-------+---+------+-----+\n",
            "| ID|   Name|Age|Salary|Bonus|\n",
            "+---+-------+---+------+-----+\n",
            "|  1|  Alice| 25|  5000|  500|\n",
            "|  2|    Bob| 30|  6000|  600|\n",
            "|  3|Charlie| 35|  7000|  700|\n",
            "|  4|    Eve| 40|  8000|  800|\n",
            "|  5|  David| 45|  9000|  900|\n",
            "+---+-------+---+------+-----+\n",
            "\n"
          ]
        }
      ]
    },
    {
      "cell_type": "code",
      "source": [
        "df.select(\n",
        "    sum(\"Salary\").alias(\"Total Salary\"),\n",
        "    min(\"Salary\").alias(\"Minimum Salary\"),\n",
        "    max(\"Salary\").alias(\"Maximum Salary\"),\n",
        "    count(\"ID\").alias(\"Number of Employees\"),\n",
        "    avg(\"Salary\").alias(\"Average Salary\")\n",
        ").show()"
      ],
      "metadata": {
        "colab": {
          "base_uri": "https://localhost:8080/"
        },
        "id": "2eG1DJJgjn3u",
        "outputId": "b4fd4d37-adfa-4109-caa9-e264e0cbace9"
      },
      "execution_count": null,
      "outputs": [
        {
          "output_type": "stream",
          "name": "stdout",
          "text": [
            "+------------+--------------+--------------+-------------------+--------------+\n",
            "|Total Salary|Minimum Salary|Maximum Salary|Number of Employees|Average Salary|\n",
            "+------------+--------------+--------------+-------------------+--------------+\n",
            "|       35000|          5000|          9000|                  5|        7000.0|\n",
            "+------------+--------------+--------------+-------------------+--------------+\n",
            "\n"
          ]
        }
      ]
    },
    {
      "cell_type": "markdown",
      "source": [
        "If null present in the column then Pyspark won't consider null value it wil give output.\n"
      ],
      "metadata": {
        "id": "vC4yW95lkrjs"
      }
    },
    {
      "cell_type": "code",
      "source": [
        "from pyspark.sql import SparkSession\n",
        "Array_df = SparkSession.builder.appName(\"ColabPySpark\").getOrCreate()"
      ],
      "metadata": {
        "id": "8yTE26_zGLwq"
      },
      "execution_count": null,
      "outputs": []
    },
    {
      "cell_type": "code",
      "source": [
        "Array_df = spark.createDataFrame([\n",
        "    (1, \"Alice\", None, 5000, \"HR\"),\n",
        "        (None, \"Bob\", 30, 6000, \"IT\"),\n",
        "        (3, \"Charlie\", 35, None, \"Finance\"),\n",
        "        (4, None, 34, 7000, \"None\")], [\"id\", \"name\", \"age\", \"salary\",\"dept\"]) # Changed this line\n",
        "#Array_df = spark.CreateDataframe(data,[\"id\", \"name\", \"age\", \"salary\",\"dept\"]) # Removing this line\n"
      ],
      "metadata": {
        "id": "Stf1rQbMGix6"
      },
      "execution_count": null,
      "outputs": []
    },
    {
      "cell_type": "code",
      "source": [
        "Array_df.show()"
      ],
      "metadata": {
        "colab": {
          "base_uri": "https://localhost:8080/"
        },
        "id": "8oE_sdIcHRkW",
        "outputId": "a24550aa-e4e9-4d6f-b07e-3daa923c8835"
      },
      "execution_count": null,
      "outputs": [
        {
          "output_type": "stream",
          "name": "stdout",
          "text": [
            "+----+-------+----+------+-------+\n",
            "|  id|   name| age|salary|   dept|\n",
            "+----+-------+----+------+-------+\n",
            "|   1|  Alice|NULL|  5000|     HR|\n",
            "|NULL|    Bob|  30|  6000|     IT|\n",
            "|   3|Charlie|  35|  NULL|Finance|\n",
            "|   4|   NULL|  34|  7000|   None|\n",
            "+----+-------+----+------+-------+\n",
            "\n"
          ]
        }
      ]
    },
    {
      "cell_type": "code",
      "source": [
        "from pyspark.sql.functions import col, avg, when, coalesce"
      ],
      "metadata": {
        "id": "S2aKhslbHUBE"
      },
      "execution_count": null,
      "outputs": []
    },
    {
      "cell_type": "code",
      "source": [],
      "metadata": {
        "id": "TT_DmDhdHiOS"
      },
      "execution_count": null,
      "outputs": []
    },
    {
      "cell_type": "markdown",
      "source": [
        "Array, Explode\n",
        "Array : it use to combine two record into one record\n",
        "Explode : it use to increase the row"
      ],
      "metadata": {
        "id": "DCBv0en6IThD"
      }
    },
    {
      "cell_type": "code",
      "source": [
        "Array_df.show()"
      ],
      "metadata": {
        "colab": {
          "base_uri": "https://localhost:8080/"
        },
        "id": "IZLPhZ6oIsJd",
        "outputId": "268aa4c8-f411-4ed7-96d9-2eb6716885f2"
      },
      "execution_count": null,
      "outputs": [
        {
          "output_type": "stream",
          "name": "stdout",
          "text": [
            "+----+-------+----+------+-------+\n",
            "|  id|   name| age|salary|   dept|\n",
            "+----+-------+----+------+-------+\n",
            "|   1|  Alice|NULL|  5000|     HR|\n",
            "|NULL|    Bob|  30|  6000|     IT|\n",
            "|   3|Charlie|  35|  NULL|Finance|\n",
            "|   4|   NULL|  34|  7000|  Admin|\n",
            "+----+-------+----+------+-------+\n",
            "\n"
          ]
        }
      ]
    },
    {
      "cell_type": "markdown",
      "source": [
        "Average of AGE"
      ],
      "metadata": {
        "id": "0x-jSYlkMfPw"
      }
    },
    {
      "cell_type": "code",
      "source": [
        "Array_df.select(avg(col(\"age\")))"
      ],
      "metadata": {
        "colab": {
          "base_uri": "https://localhost:8080/"
        },
        "id": "OwIxQ4nrKj7h",
        "outputId": "8f7ef5a1-1cac-4fc8-c102-6fd996baf0b6"
      },
      "execution_count": null,
      "outputs": [
        {
          "output_type": "execute_result",
          "data": {
            "text/plain": [
              "DataFrame[avg(age): double]"
            ]
          },
          "metadata": {},
          "execution_count": 35
        }
      ]
    },
    {
      "cell_type": "code",
      "source": [
        "Array_df.select(avg(col(\"age\"))).collect()"
      ],
      "metadata": {
        "colab": {
          "base_uri": "https://localhost:8080/"
        },
        "id": "lsC5e-eqLZCI",
        "outputId": "edc9c184-6d24-41b8-dc42-557d28b1bc5c"
      },
      "execution_count": null,
      "outputs": [
        {
          "output_type": "execute_result",
          "data": {
            "text/plain": [
              "[Row(avg(age)=32.5)]"
            ]
          },
          "metadata": {},
          "execution_count": 36
        }
      ]
    },
    {
      "cell_type": "code",
      "source": [
        "Array_df.select(avg(col(\"age\"))).collect()[0][0]"
      ],
      "metadata": {
        "colab": {
          "base_uri": "https://localhost:8080/"
        },
        "id": "3gf9dwGBLg2o",
        "outputId": "48698e17-ce76-415c-c9f0-c2c981d7cbf7"
      },
      "execution_count": null,
      "outputs": [
        {
          "output_type": "execute_result",
          "data": {
            "text/plain": [
              "32.5"
            ]
          },
          "metadata": {},
          "execution_count": 37
        }
      ]
    },
    {
      "cell_type": "code",
      "source": [
        "agv_age = Array_df.select(avg(col(\"age\"))).collect()[0][0]\n"
      ],
      "metadata": {
        "colab": {
          "base_uri": "https://localhost:8080/"
        },
        "id": "RJLvKpv_LmKF",
        "outputId": "45a354cf-07a6-481b-a5e8-db2cfe3fd971"
      },
      "execution_count": null,
      "outputs": [
        {
          "output_type": "stream",
          "name": "stdout",
          "text": [
            "32.5\n"
          ]
        }
      ]
    },
    {
      "cell_type": "code",
      "source": [
        "print(agv_age)"
      ],
      "metadata": {
        "colab": {
          "base_uri": "https://localhost:8080/"
        },
        "id": "83ZvkQWMMLGI",
        "outputId": "cb24a3fd-d457-4ce6-bf5a-bb8cf839b627"
      },
      "execution_count": null,
      "outputs": [
        {
          "output_type": "stream",
          "name": "stdout",
          "text": [
            "32.5\n"
          ]
        }
      ]
    },
    {
      "cell_type": "markdown",
      "source": [
        "If name is null then change to Unknow"
      ],
      "metadata": {
        "id": "gDFIsTiQMhr0"
      }
    },
    {
      "cell_type": "code",
      "source": [
        "Array_df.show()"
      ],
      "metadata": {
        "colab": {
          "base_uri": "https://localhost:8080/"
        },
        "id": "GUsHrIUyMNC5",
        "outputId": "814749e9-66d7-4575-877a-1cfefba6bfc4"
      },
      "execution_count": null,
      "outputs": [
        {
          "output_type": "stream",
          "name": "stdout",
          "text": [
            "+----+-------+----+------+-------+\n",
            "|  id|   name| age|salary|   dept|\n",
            "+----+-------+----+------+-------+\n",
            "|   1|  Alice|NULL|  5000|     HR|\n",
            "|NULL|    Bob|  30|  6000|     IT|\n",
            "|   3|Charlie|  35|  NULL|Finance|\n",
            "|   4|   NULL|  34|  7000|  Admin|\n",
            "+----+-------+----+------+-------+\n",
            "\n"
          ]
        }
      ]
    },
    {
      "cell_type": "code",
      "source": [
        "Array_df.withColumn(\"name\", when(col(\"name\").isNull(), \"Unknown\").otherwise(col(\"name\"))).show()"
      ],
      "metadata": {
        "colab": {
          "base_uri": "https://localhost:8080/"
        },
        "id": "Un_prnGFMktt",
        "outputId": "9832a394-959a-4e2b-d16b-f6f80d208b6d"
      },
      "execution_count": null,
      "outputs": [
        {
          "output_type": "stream",
          "name": "stdout",
          "text": [
            "+----+-------+----+------+-------+\n",
            "|  id|   name| age|salary|   dept|\n",
            "+----+-------+----+------+-------+\n",
            "|   1|  Alice|NULL|  5000|     HR|\n",
            "|NULL|    Bob|  30|  6000|     IT|\n",
            "|   3|Charlie|  35|  NULL|Finance|\n",
            "|   4|Unknown|  34|  7000|  Admin|\n",
            "+----+-------+----+------+-------+\n",
            "\n"
          ]
        }
      ]
    },
    {
      "cell_type": "code",
      "source": [
        "Array_df.withColumn(\"age\", when(col(\"age\").isNull(), agv_age).otherwise(col(\"age\"))).show()"
      ],
      "metadata": {
        "colab": {
          "base_uri": "https://localhost:8080/"
        },
        "id": "hocADWV_N8ln",
        "outputId": "089028dc-1b85-4bd1-f67d-e2b8b9e72023"
      },
      "execution_count": null,
      "outputs": [
        {
          "output_type": "stream",
          "name": "stdout",
          "text": [
            "+----+-------+----+------+-------+\n",
            "|  id|   name| age|salary|   dept|\n",
            "+----+-------+----+------+-------+\n",
            "|   1|  Alice|32.5|  5000|     HR|\n",
            "|NULL|    Bob|30.0|  6000|     IT|\n",
            "|   3|Charlie|35.0|  NULL|Finance|\n",
            "|   4|   NULL|34.0|  7000|  Admin|\n",
            "+----+-------+----+------+-------+\n",
            "\n"
          ]
        }
      ]
    },
    {
      "cell_type": "code",
      "source": [
        "Array_df.show()"
      ],
      "metadata": {
        "colab": {
          "base_uri": "https://localhost:8080/"
        },
        "id": "WWg4UWGEOw-V",
        "outputId": "e48e391b-e403-4eca-fecb-b19e444d20ed"
      },
      "execution_count": null,
      "outputs": [
        {
          "output_type": "stream",
          "name": "stdout",
          "text": [
            "+----+-------+----+------+-------+\n",
            "|  id|   name| age|salary|   dept|\n",
            "+----+-------+----+------+-------+\n",
            "|   1|  Alice|NULL|  5000|     HR|\n",
            "|NULL|    Bob|  30|  6000|     IT|\n",
            "|   3|Charlie|  35|  NULL|Finance|\n",
            "|   4|   NULL|  34|  7000|  Admin|\n",
            "+----+-------+----+------+-------+\n",
            "\n"
          ]
        }
      ]
    },
    {
      "cell_type": "code",
      "source": [
        "Array_df.withColumn(\"salary\", when(col(\"salary\").isNull(), 0).otherwise(col(\"salary\"))).show()"
      ],
      "metadata": {
        "colab": {
          "base_uri": "https://localhost:8080/"
        },
        "id": "i9qyB_YQPYpK",
        "outputId": "a256c410-2f28-40f2-f0dc-ef8097197a3d"
      },
      "execution_count": null,
      "outputs": [
        {
          "output_type": "stream",
          "name": "stdout",
          "text": [
            "+----+-------+----+------+-------+\n",
            "|  id|   name| age|salary|   dept|\n",
            "+----+-------+----+------+-------+\n",
            "|   1|  Alice|NULL|  5000|     HR|\n",
            "|NULL|    Bob|  30|  6000|     IT|\n",
            "|   3|Charlie|  35|     0|Finance|\n",
            "|   4|   NULL|  34|  7000|  Admin|\n",
            "+----+-------+----+------+-------+\n",
            "\n"
          ]
        }
      ]
    },
    {
      "cell_type": "code",
      "source": [
        "Array_df.filter(col(\"dept\").isNotNull()).show()  # Add .show() to display the result"
      ],
      "metadata": {
        "colab": {
          "base_uri": "https://localhost:8080/"
        },
        "id": "mRflV9oQQ03v",
        "outputId": "889d3936-bdca-4acc-8920-fd6872b6366e"
      },
      "execution_count": null,
      "outputs": [
        {
          "output_type": "stream",
          "name": "stdout",
          "text": [
            "+----+-------+----+------+-------+\n",
            "|  id|   name| age|salary|   dept|\n",
            "+----+-------+----+------+-------+\n",
            "|   1|  Alice|NULL|  5000|     HR|\n",
            "|NULL|    Bob|  30|  6000|     IT|\n",
            "|   3|Charlie|  35|  NULL|Finance|\n",
            "|   4|   NULL|  34|  7000|  Admin|\n",
            "+----+-------+----+------+-------+\n",
            "\n"
          ]
        }
      ]
    },
    {
      "cell_type": "code",
      "source": [
        "Array_df.withColumn(\"name\", when(col(\"name\").isNull(), \"Unknown\").otherwise(col(\"name\"))) \\\n",
        ".withColumn(\"age\", when(col(\"age\").isNull(), agv_age).otherwise(col(\"age\"))) \\\n",
        ".withColumn(\"salary\", when(col(\"salary\").isNull(), 0).otherwise(col(\"salary\"))) \\\n",
        ".filter(col(\"dept\").isNotNull()).show()"
      ],
      "metadata": {
        "colab": {
          "base_uri": "https://localhost:8080/"
        },
        "id": "2E-xpWmZRsOq",
        "outputId": "7d202ec1-74a5-44fb-cf9a-86c3d8065bd5"
      },
      "execution_count": null,
      "outputs": [
        {
          "output_type": "stream",
          "name": "stdout",
          "text": [
            "+----+-------+----+------+-------+\n",
            "|  id|   name| age|salary|   dept|\n",
            "+----+-------+----+------+-------+\n",
            "|   1|  Alice|32.5|  5000|     HR|\n",
            "|NULL|    Bob|30.0|  6000|     IT|\n",
            "|   3|Charlie|35.0|     0|Finance|\n",
            "|   4|Unknown|34.0|  7000|   None|\n",
            "+----+-------+----+------+-------+\n",
            "\n"
          ]
        }
      ]
    },
    {
      "cell_type": "markdown",
      "source": [
        "Creatin Dataframe and storing\n"
      ],
      "metadata": {
        "id": "6S0Or2B6S5Cm"
      }
    },
    {
      "cell_type": "code",
      "source": [
        "Clean_df = Array_df.withColumn(\"name\", when(col(\"name\").isNull(), \"Unknown\").otherwise(col(\"name\"))) \\\n",
        ".withColumn(\"age\", when(col(\"age\").isNull(), agv_age).otherwise(col(\"age\"))) \\\n",
        ".withColumn(\"salary\", when(col(\"salary\").isNull(), 0).otherwise(col(\"salary\"))) \\\n",
        ".filter(col(\"dept\").isNotNull())"
      ],
      "metadata": {
        "id": "lkn6WCnRSZCd"
      },
      "execution_count": null,
      "outputs": []
    },
    {
      "cell_type": "code",
      "source": [
        "Clean_df.show()"
      ],
      "metadata": {
        "colab": {
          "base_uri": "https://localhost:8080/"
        },
        "id": "QL7coWWGS_91",
        "outputId": "b662edcc-923e-4442-ba2d-1be4ffd619f5"
      },
      "execution_count": null,
      "outputs": [
        {
          "output_type": "stream",
          "name": "stdout",
          "text": [
            "+----+-------+----+------+-------+\n",
            "|  id|   name| age|salary|   dept|\n",
            "+----+-------+----+------+-------+\n",
            "|   1|  Alice|32.5|  5000|     HR|\n",
            "|NULL|    Bob|30.0|  6000|     IT|\n",
            "|   3|Charlie|35.0|     0|Finance|\n",
            "|   4|Unknown|34.0|  7000|   None|\n",
            "+----+-------+----+------+-------+\n",
            "\n"
          ]
        }
      ]
    },
    {
      "cell_type": "markdown",
      "source": [
        "Alternate way using \"Coalesce\" instead of \"when\""
      ],
      "metadata": {
        "id": "tZpeMWCpUr-F"
      }
    },
    {
      "cell_type": "code",
      "source": [
        "Alter_df = spark.createDataFrame([\n",
        "    (1, \"Alice\", None, 5000, \"HR\"),\n",
        "        (None, \"Bob\", 30, 6000, \"IT\"),\n",
        "        (3, \"Charlie\", 35, None, \"Finance\"),\n",
        "        (4, None, 34, 7000, \"None\")], [\"id\", \"name\", \"age\", \"salary\",\"dept\"]) # Changed this line\n",
        "#Array_df = spark.CreateDataframe(data,[\"id\", \"name\", \"age\", \"salary\",\"dept\"]) # Removing this line\n"
      ],
      "metadata": {
        "id": "kLCBl3SjToPB"
      },
      "execution_count": null,
      "outputs": []
    },
    {
      "cell_type": "code",
      "source": [
        "from pyspark.sql.functions import coalesce, col, when"
      ],
      "metadata": {
        "id": "4Q4HAcu9T657"
      },
      "execution_count": null,
      "outputs": []
    },
    {
      "cell_type": "code",
      "source": [
        "from pyspark.sql.functions import coalesce, col, lit  # Import lit\n",
        "\n",
        "Alter_df.withColumn(\"name\", coalesce(col(\"name\"), lit(\"Unknown\"))) \\\n",
        "    .withColumn(\"age\", coalesce(col(\"age\"), lit(agv_age))) \\\n",
        "    .withColumn(\"salary\", coalesce(col(\"salary\"),lit(0))) \\\n",
        "    .filter(col(\"dept\").isNotNull()).show()"
      ],
      "metadata": {
        "colab": {
          "base_uri": "https://localhost:8080/"
        },
        "id": "GFbQ0JXQT-_N",
        "outputId": "1bc21411-8e8d-49d3-f1bd-2901373ae645"
      },
      "execution_count": null,
      "outputs": [
        {
          "output_type": "stream",
          "name": "stdout",
          "text": [
            "+----+-------+----+------+-------+\n",
            "|  id|   name| age|salary|   dept|\n",
            "+----+-------+----+------+-------+\n",
            "|   1|  Alice|32.5|  5000|     HR|\n",
            "|NULL|    Bob|30.0|  6000|     IT|\n",
            "|   3|Charlie|35.0|     0|Finance|\n",
            "|   4|Unknown|34.0|  7000|   None|\n",
            "+----+-------+----+------+-------+\n",
            "\n"
          ]
        }
      ]
    },
    {
      "cell_type": "markdown",
      "source": [
        "**Window Fucntion**\n",
        "\n",
        "which will helps us to perform a calculation a set of records or set of rows\n",
        "1.Partition\n",
        "2.ordering\n",
        "3.frame  - how i am going to perform the opertion\n",
        "\n"
      ],
      "metadata": {
        "id": "1AP_ZAtkxyBs"
      }
    },
    {
      "cell_type": "code",
      "source": [
        "from pyspark.sql import SparkSession\n",
        "\n",
        "# Initialize Spark Session\n",
        "spark = SparkSession.builder.appName(\"ColabPySpark\").getOrCreate()\n",
        "\n",
        "data = [(\"Alice\",\"Sales\",5000),\n",
        "        (\"Babu\",\"Sales\",4000),\n",
        "        (\"Kumar\",\"Hr\",5000),\n",
        "        (\"Jai\",\"Hr\",6000),\n",
        "        (\"sri\",\"Sales\",3000)\n",
        "        ]\n",
        "Column = [\"Name\",\"Department\",\"Salary\"]\n",
        "df = spark.createDataFrame(data,Column)"
      ],
      "metadata": {
        "id": "XZNF7Z8hUCCh"
      },
      "execution_count": 3,
      "outputs": []
    },
    {
      "cell_type": "code",
      "source": [
        "df.show()"
      ],
      "metadata": {
        "colab": {
          "base_uri": "https://localhost:8080/"
        },
        "id": "LhlU0JLWzM3N",
        "outputId": "d52fec5c-c7bb-4044-adb9-fde8d5ce2013"
      },
      "execution_count": 4,
      "outputs": [
        {
          "output_type": "stream",
          "name": "stdout",
          "text": [
            "+-----+----------+------+\n",
            "| Name|Department|Salary|\n",
            "+-----+----------+------+\n",
            "|Alice|     Sales|  5000|\n",
            "| Babu|     Sales|  4000|\n",
            "|Kumar|        Hr|  5000|\n",
            "|  Jai|        Hr|  6000|\n",
            "|  sri|     Sales|  3000|\n",
            "+-----+----------+------+\n",
            "\n"
          ]
        }
      ]
    },
    {
      "cell_type": "code",
      "source": [
        "from pyspark.sql.window import Window"
      ],
      "metadata": {
        "id": "-kd7I8x-zO--"
      },
      "execution_count": 13,
      "outputs": []
    },
    {
      "cell_type": "code",
      "source": [
        "WindowSpec = Window.partitionBy(\"Department\").orderBy(\"Salary\")"
      ],
      "metadata": {
        "id": "avXqsGSC0XNT"
      },
      "execution_count": 14,
      "outputs": []
    },
    {
      "cell_type": "code",
      "source": [
        "from pyspark.sql.functions import row_number"
      ],
      "metadata": {
        "id": "2cb-ci590hkj"
      },
      "execution_count": 8,
      "outputs": []
    },
    {
      "cell_type": "code",
      "source": [
        "df.withColumn(\"Row Number\" ,row_number().over(WindowSpec)).show()"
      ],
      "metadata": {
        "colab": {
          "base_uri": "https://localhost:8080/"
        },
        "id": "K45y_5dm0luh",
        "outputId": "29379652-e98f-4b4b-8447-1994fc383d93"
      },
      "execution_count": 10,
      "outputs": [
        {
          "output_type": "stream",
          "name": "stdout",
          "text": [
            "+-----+----------+------+----------+\n",
            "| Name|Department|Salary|Row Number|\n",
            "+-----+----------+------+----------+\n",
            "|Kumar|        Hr|  5000|         1|\n",
            "|  Jai|        Hr|  6000|         2|\n",
            "|  sri|     Sales|  3000|         1|\n",
            "| Babu|     Sales|  4000|         2|\n",
            "|Alice|     Sales|  5000|         3|\n",
            "+-----+----------+------+----------+\n",
            "\n"
          ]
        }
      ]
    },
    {
      "cell_type": "markdown",
      "source": [
        "Rank and Dense Rank"
      ],
      "metadata": {
        "id": "ZLRbPOWb7s-I"
      }
    },
    {
      "cell_type": "code",
      "source": [
        "spark = SparkSession.builder.appName(\"ColabPySpark\").getOrCreate()\n",
        "\n",
        "data = [(\"Alice\",5000),\n",
        "        (\"Babu\",4000),\n",
        "        (\"Kumar\",5000),\n",
        "        (\"Jai\",6000),\n",
        "        (\"sri\",3000),\n",
        "        (\"Murali\",3000)\n",
        "        ]\n",
        "Column = [\"Name\",\"Salary\"]\n",
        "df = spark.createDataFrame(data,Column)"
      ],
      "metadata": {
        "id": "qcqhkxWu7uiL"
      },
      "execution_count": 16,
      "outputs": []
    },
    {
      "cell_type": "code",
      "source": [
        "from pyspark.sql.functions import rank,dense_rank"
      ],
      "metadata": {
        "id": "BUQ17ad479lz"
      },
      "execution_count": 17,
      "outputs": []
    },
    {
      "cell_type": "code",
      "source": [
        "WindowSpec = Window.orderBy(df[\"Salary\"].desc())"
      ],
      "metadata": {
        "id": "hMnavexv8O4k"
      },
      "execution_count": 18,
      "outputs": []
    },
    {
      "cell_type": "code",
      "source": [
        "df.withColumn(\"rank\",rank().over(WindowSpec)).withColumn(\"dense_rank\",dense_rank().over(WindowSpec)).show()"
      ],
      "metadata": {
        "colab": {
          "base_uri": "https://localhost:8080/"
        },
        "id": "ytHgS21o8St1",
        "outputId": "b2b87153-1ddb-4ffc-b072-8c3f8e4a196b"
      },
      "execution_count": 19,
      "outputs": [
        {
          "output_type": "stream",
          "name": "stdout",
          "text": [
            "+------+------+----+----------+\n",
            "|  Name|Salary|rank|dense_rank|\n",
            "+------+------+----+----------+\n",
            "|   Jai|  6000|   1|         1|\n",
            "| Alice|  5000|   2|         2|\n",
            "| Kumar|  5000|   2|         2|\n",
            "|  Babu|  4000|   4|         3|\n",
            "|   sri|  3000|   5|         4|\n",
            "|Murali|  3000|   5|         4|\n",
            "+------+------+----+----------+\n",
            "\n"
          ]
        }
      ]
    },
    {
      "cell_type": "code",
      "source": [
        "from pyspark.sql.functions import sum  # Import PySpark's sum function\n",
        "\n",
        "df.withColumn(\"Sum\", sum(\"Salary\").over(WindowSpec)).show()"
      ],
      "metadata": {
        "colab": {
          "base_uri": "https://localhost:8080/"
        },
        "id": "yqmF0xgk8dJC",
        "outputId": "f47897a3-5ec4-4685-e8b5-a8675adc561d"
      },
      "execution_count": 23,
      "outputs": [
        {
          "output_type": "stream",
          "name": "stdout",
          "text": [
            "+------+------+-----+\n",
            "|  Name|Salary|  Sum|\n",
            "+------+------+-----+\n",
            "|   Jai|  6000| 6000|\n",
            "| Alice|  5000|16000|\n",
            "| Kumar|  5000|16000|\n",
            "|  Babu|  4000|20000|\n",
            "|   sri|  3000|26000|\n",
            "|Murali|  3000|26000|\n",
            "+------+------+-----+\n",
            "\n"
          ]
        }
      ]
    },
    {
      "cell_type": "code",
      "source": [
        "from pyspark.sql.functions import col, sum, avg"
      ],
      "metadata": {
        "id": "hBkkt8BoJ483"
      },
      "execution_count": 24,
      "outputs": []
    },
    {
      "cell_type": "code",
      "source": [
        "df.withColumn(\"Avg\",avg(\"Salary\").over(WindowSpec)).show()"
      ],
      "metadata": {
        "colab": {
          "base_uri": "https://localhost:8080/"
        },
        "id": "JH22ExF0KdFp",
        "outputId": "3a8d14f4-451c-433f-8caf-501eb4189a8d"
      },
      "execution_count": 25,
      "outputs": [
        {
          "output_type": "stream",
          "name": "stdout",
          "text": [
            "+------+------+-----------------+\n",
            "|  Name|Salary|              Avg|\n",
            "+------+------+-----------------+\n",
            "|   Jai|  6000|           6000.0|\n",
            "| Alice|  5000|5333.333333333333|\n",
            "| Kumar|  5000|5333.333333333333|\n",
            "|  Babu|  4000|           5000.0|\n",
            "|   sri|  3000|4333.333333333333|\n",
            "|Murali|  3000|4333.333333333333|\n",
            "+------+------+-----------------+\n",
            "\n"
          ]
        }
      ]
    },
    {
      "cell_type": "code",
      "source": [],
      "metadata": {
        "id": "Dytv_Y2GKl5X"
      },
      "execution_count": null,
      "outputs": []
    }
  ]
}