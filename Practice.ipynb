{
  "nbformat": 4,
  "nbformat_minor": 0,
  "metadata": {
    "colab": {
      "provenance": [],
      "authorship_tag": "ABX9TyNlp8gl5ZrTptCWCoQKti74",
      "include_colab_link": true
    },
    "kernelspec": {
      "name": "python3",
      "display_name": "Python 3"
    },
    "language_info": {
      "name": "python"
    }
  },
  "cells": [
    {
      "cell_type": "markdown",
      "metadata": {
        "id": "view-in-github",
        "colab_type": "text"
      },
      "source": [
        "<a href=\"https://colab.research.google.com/github/Jayakumar1305/ETL-Workflow-with-PYTHON/blob/main/Practice.ipynb\" target=\"_parent\"><img src=\"https://colab.research.google.com/assets/colab-badge.svg\" alt=\"Open In Colab\"/></a>"
      ]
    },
    {
      "cell_type": "code",
      "execution_count": null,
      "metadata": {
        "id": "0HpLGBcGe2IE"
      },
      "outputs": [],
      "source": []
    },
    {
      "cell_type": "code",
      "source": [],
      "metadata": {
        "id": "dfm-903ki-xa"
      },
      "execution_count": null,
      "outputs": []
    },
    {
      "cell_type": "code",
      "source": [
        "!pip install pyspark"
      ],
      "metadata": {
        "colab": {
          "base_uri": "https://localhost:8080/"
        },
        "id": "fbs_ikFpe5xf",
        "outputId": "867fcf35-c034-4d08-e819-ff28a2937dee"
      },
      "execution_count": null,
      "outputs": [
        {
          "output_type": "stream",
          "name": "stdout",
          "text": [
            "Requirement already satisfied: pyspark in /usr/local/lib/python3.11/dist-packages (3.5.4)\n",
            "Requirement already satisfied: py4j==0.10.9.7 in /usr/local/lib/python3.11/dist-packages (from pyspark) (0.10.9.7)\n"
          ]
        }
      ]
    },
    {
      "cell_type": "code",
      "source": [
        "from pyspark.sql import SparkSession\n",
        "from pyspark.sql import Row"
      ],
      "metadata": {
        "id": "fssFf8YDe6qg"
      },
      "execution_count": null,
      "outputs": []
    },
    {
      "cell_type": "code",
      "source": [
        "df = SparkSession.builder.appName(\"ColabPySpark\").getOrCreate()"
      ],
      "metadata": {
        "id": "gGUMwUCqfAAC"
      },
      "execution_count": null,
      "outputs": []
    },
    {
      "cell_type": "code",
      "source": [
        "data = [(1, \"Alice\", 25, 5000), (2, \"Bob\", 30, 6000), (3, \"Charlie\", 35, 7000)]\n",
        "columns = [\"ID\", \"Name\", \"Age\", \"Salary\"]\n",
        "\n",
        "df = df.createDataFrame(data, columns)\n"
      ],
      "metadata": {
        "id": "FZjlb4vPfBXn"
      },
      "execution_count": null,
      "outputs": []
    },
    {
      "cell_type": "code",
      "source": [
        "df.show()"
      ],
      "metadata": {
        "colab": {
          "base_uri": "https://localhost:8080/"
        },
        "id": "sK4lzTcfftim",
        "outputId": "b93fd064-6314-45e7-abc1-b49fec5113fd"
      },
      "execution_count": null,
      "outputs": [
        {
          "output_type": "stream",
          "name": "stdout",
          "text": [
            "+---+-------+---+------+\n",
            "| ID|   Name|Age|Salary|\n",
            "+---+-------+---+------+\n",
            "|  1|  Alice| 25|  5000|\n",
            "|  2|    Bob| 30|  6000|\n",
            "|  3|Charlie| 35|  7000|\n",
            "+---+-------+---+------+\n",
            "\n"
          ]
        }
      ]
    },
    {
      "cell_type": "code",
      "source": [
        "df.printSchema()"
      ],
      "metadata": {
        "colab": {
          "base_uri": "https://localhost:8080/"
        },
        "id": "fkmuGMZzgH3F",
        "outputId": "47288bc3-3287-4d3c-967e-f02ee632875b"
      },
      "execution_count": null,
      "outputs": [
        {
          "output_type": "stream",
          "name": "stdout",
          "text": [
            "root\n",
            " |-- ID: long (nullable = true)\n",
            " |-- Name: string (nullable = true)\n",
            " |-- Age: long (nullable = true)\n",
            " |-- Salary: long (nullable = true)\n",
            "\n"
          ]
        }
      ]
    },
    {
      "cell_type": "code",
      "source": [
        "df.columns"
      ],
      "metadata": {
        "colab": {
          "base_uri": "https://localhost:8080/"
        },
        "id": "WSD4nulPgQOx",
        "outputId": "e1bdb3df-d272-4bb5-8914-d0069f6770b0"
      },
      "execution_count": null,
      "outputs": [
        {
          "output_type": "execute_result",
          "data": {
            "text/plain": [
              "['ID', 'Name', 'Age']"
            ]
          },
          "metadata": {},
          "execution_count": 19
        }
      ]
    },
    {
      "cell_type": "code",
      "source": [
        "df.describe().show()"
      ],
      "metadata": {
        "colab": {
          "base_uri": "https://localhost:8080/"
        },
        "id": "QKLz1kDRgWxQ",
        "outputId": "def47fe6-d7a0-421c-ee9a-3c832b6bfdd0"
      },
      "execution_count": null,
      "outputs": [
        {
          "output_type": "stream",
          "name": "stdout",
          "text": [
            "+-------+---+-------+----+\n",
            "|summary| ID|   Name| Age|\n",
            "+-------+---+-------+----+\n",
            "|  count|  3|      3|   3|\n",
            "|   mean|2.0|   NULL|30.0|\n",
            "| stddev|1.0|   NULL| 5.0|\n",
            "|    min|  1|  Alice|  25|\n",
            "|    max|  3|Charlie|  35|\n",
            "+-------+---+-------+----+\n",
            "\n"
          ]
        }
      ]
    },
    {
      "cell_type": "code",
      "source": [
        "df = df.withColumn(\"Bonus\", df[\"Salary\"] * 0.1)"
      ],
      "metadata": {
        "id": "VTlpbORNgkMF"
      },
      "execution_count": null,
      "outputs": []
    },
    {
      "cell_type": "code",
      "source": [
        "df.show()"
      ],
      "metadata": {
        "colab": {
          "base_uri": "https://localhost:8080/"
        },
        "id": "HA5L7wqihZw4",
        "outputId": "3dc1ac59-087c-444c-9ab2-0cd0d3da06fd"
      },
      "execution_count": null,
      "outputs": [
        {
          "output_type": "stream",
          "name": "stdout",
          "text": [
            "+---+-------+---+------+-----+\n",
            "| ID|   Name|Age|Salary|Bonus|\n",
            "+---+-------+---+------+-----+\n",
            "|  1|  Alice| 25|  5000|500.0|\n",
            "|  2|    Bob| 30|  6000|600.0|\n",
            "|  3|Charlie| 35|  7000|700.0|\n",
            "+---+-------+---+------+-----+\n",
            "\n"
          ]
        }
      ]
    },
    {
      "cell_type": "code",
      "source": [
        "from pyspark.sql.functions import sum, min, max, count,avg # Removed 'add'\n",
        "\n",
        "# To perform addition, you can use the '+' operator on columns:\n",
        "# For example:\n",
        "# df.select(df[\"Salary\"] + df[\"Bonus\"]).show()"
      ],
      "metadata": {
        "id": "znlTiNL4hbaA"
      },
      "execution_count": null,
      "outputs": []
    },
    {
      "cell_type": "code",
      "source": [
        "from pyspark.sql import SparkSession\n",
        "from pyspark.sql.types import StructType, StructField, IntegerType, StringType, LongType\n",
        "\n",
        "# Initialize Spark Session\n",
        "spark = SparkSession.builder.appName(\"ColabPySpark\").getOrCreate()\n",
        "\n",
        "# Define Schema (Adding Bonus Column)\n",
        "schema = StructType([\n",
        "    StructField(\"ID\", LongType(), True),\n",
        "    StructField(\"Name\", StringType(), True),\n",
        "    StructField(\"Age\", IntegerType(), True),\n",
        "    StructField(\"Salary\", LongType(), True),\n",
        "    StructField(\"Bonus\", LongType(), True)  # Adding Bonus column\n",
        "])\n",
        "\n",
        "# Define Data\n",
        "data = [(1, \"Alice\", 25, 5000, 500),\n",
        "        (2, \"Bob\", 30, 6000, 600),\n",
        "        (3, \"Charlie\", 35, 7000, 700)]\n",
        "\n",
        "df = spark.createDataFrame(data, schema=schema)\n",
        "\n",
        "# New row(s) to add\n",
        "new_data = [(4, \"Eve\", 40, 8000, 800),\n",
        "            (5, \"David\", 45, 9000, 900)]  # Adding multiple rows\n",
        "\n",
        "new_df = spark.createDataFrame(new_data, schema=schema)\n",
        "\n",
        "# Append new rows using union()\n",
        "df = df.union(new_df)\n",
        "\n",
        "# Show Updated DataFrame\n",
        "df.show()\n"
      ],
      "metadata": {
        "colab": {
          "base_uri": "https://localhost:8080/"
        },
        "id": "HXw64fC9jh1-",
        "outputId": "c378f0e9-70a4-4ddb-ad6e-0bfe82df2ead"
      },
      "execution_count": null,
      "outputs": [
        {
          "output_type": "stream",
          "name": "stdout",
          "text": [
            "+---+-------+---+------+-----+\n",
            "| ID|   Name|Age|Salary|Bonus|\n",
            "+---+-------+---+------+-----+\n",
            "|  1|  Alice| 25|  5000|  500|\n",
            "|  2|    Bob| 30|  6000|  600|\n",
            "|  3|Charlie| 35|  7000|  700|\n",
            "|  4|    Eve| 40|  8000|  800|\n",
            "|  5|  David| 45|  9000|  900|\n",
            "+---+-------+---+------+-----+\n",
            "\n"
          ]
        }
      ]
    },
    {
      "cell_type": "code",
      "source": [
        "df.select(\n",
        "    sum(\"Salary\").alias(\"Total Salary\"),\n",
        "    min(\"Salary\").alias(\"Minimum Salary\"),\n",
        "    max(\"Salary\").alias(\"Maximum Salary\"),\n",
        "    count(\"ID\").alias(\"Number of Employees\"),\n",
        "    avg(\"Salary\").alias(\"Average Salary\")\n",
        ").show()"
      ],
      "metadata": {
        "colab": {
          "base_uri": "https://localhost:8080/"
        },
        "id": "2eG1DJJgjn3u",
        "outputId": "b4fd4d37-adfa-4109-caa9-e264e0cbace9"
      },
      "execution_count": null,
      "outputs": [
        {
          "output_type": "stream",
          "name": "stdout",
          "text": [
            "+------------+--------------+--------------+-------------------+--------------+\n",
            "|Total Salary|Minimum Salary|Maximum Salary|Number of Employees|Average Salary|\n",
            "+------------+--------------+--------------+-------------------+--------------+\n",
            "|       35000|          5000|          9000|                  5|        7000.0|\n",
            "+------------+--------------+--------------+-------------------+--------------+\n",
            "\n"
          ]
        }
      ]
    },
    {
      "cell_type": "markdown",
      "source": [
        "If null present in the column then Pyspark won't consider null value it wil give output.\n"
      ],
      "metadata": {
        "id": "vC4yW95lkrjs"
      }
    },
    {
      "cell_type": "code",
      "source": [
        "from pyspark.sql import SparkSession\n",
        "Array_df = SparkSession.builder.appName(\"ColabPySpark\").getOrCreate()"
      ],
      "metadata": {
        "id": "8yTE26_zGLwq"
      },
      "execution_count": 24,
      "outputs": []
    },
    {
      "cell_type": "code",
      "source": [
        "Array_df = spark.createDataFrame([\n",
        "    (1, \"Alice\", None, 5000, \"HR\"),\n",
        "        (None, \"Bob\", 30, 6000, \"IT\"),\n",
        "        (3, \"Charlie\", 35, None, \"Finance\")], [\"id\", \"name\", \"age\", \"salary\",\"dept\"]) # Changed this line\n",
        "#Array_df = spark.CreateDataframe(data,[\"id\", \"name\", \"age\", \"salary\",\"dept\"]) # Removing this line\n"
      ],
      "metadata": {
        "id": "Stf1rQbMGix6"
      },
      "execution_count": 32,
      "outputs": []
    },
    {
      "cell_type": "code",
      "source": [
        "Array_df.show()"
      ],
      "metadata": {
        "colab": {
          "base_uri": "https://localhost:8080/"
        },
        "id": "8oE_sdIcHRkW",
        "outputId": "155bdd90-409d-4bda-f1c3-ed1b7fb928c2"
      },
      "execution_count": 33,
      "outputs": [
        {
          "output_type": "stream",
          "name": "stdout",
          "text": [
            "+----+-------+----+------+-------+\n",
            "|  id|   name| age|salary|   dept|\n",
            "+----+-------+----+------+-------+\n",
            "|   1|  Alice|NULL|  5000|     HR|\n",
            "|NULL|    Bob|  30|  6000|     IT|\n",
            "|   3|Charlie|  35|  NULL|Finance|\n",
            "+----+-------+----+------+-------+\n",
            "\n"
          ]
        }
      ]
    },
    {
      "cell_type": "code",
      "source": [
        "from pyspark.sql.functions import col, avg, when, coalesce"
      ],
      "metadata": {
        "id": "S2aKhslbHUBE"
      },
      "execution_count": 27,
      "outputs": []
    },
    {
      "cell_type": "code",
      "source": [],
      "metadata": {
        "id": "TT_DmDhdHiOS"
      },
      "execution_count": null,
      "outputs": []
    },
    {
      "cell_type": "markdown",
      "source": [
        "Array, Explode\n",
        "Array : it use to combine two record into one record\n",
        "Explode : it use to increase the row"
      ],
      "metadata": {
        "id": "DCBv0en6IThD"
      }
    },
    {
      "cell_type": "code",
      "source": [
        "Array_df.show()"
      ],
      "metadata": {
        "colab": {
          "base_uri": "https://localhost:8080/"
        },
        "id": "IZLPhZ6oIsJd",
        "outputId": "933d057b-5b73-4072-c72b-9cefaca02df4"
      },
      "execution_count": 34,
      "outputs": [
        {
          "output_type": "stream",
          "name": "stdout",
          "text": [
            "+----+-------+----+------+-------+\n",
            "|  id|   name| age|salary|   dept|\n",
            "+----+-------+----+------+-------+\n",
            "|   1|  Alice|NULL|  5000|     HR|\n",
            "|NULL|    Bob|  30|  6000|     IT|\n",
            "|   3|Charlie|  35|  NULL|Finance|\n",
            "+----+-------+----+------+-------+\n",
            "\n"
          ]
        }
      ]
    },
    {
      "cell_type": "code",
      "source": [
        "Array_df.select(avg(col(\"age\")))"
      ],
      "metadata": {
        "id": "OwIxQ4nrKj7h",
        "outputId": "8f7ef5a1-1cac-4fc8-c102-6fd996baf0b6",
        "colab": {
          "base_uri": "https://localhost:8080/"
        }
      },
      "execution_count": 35,
      "outputs": [
        {
          "output_type": "execute_result",
          "data": {
            "text/plain": [
              "DataFrame[avg(age): double]"
            ]
          },
          "metadata": {},
          "execution_count": 35
        }
      ]
    },
    {
      "cell_type": "code",
      "source": [
        "Array_df.select(avg(col(\"age\"))).collect()"
      ],
      "metadata": {
        "id": "lsC5e-eqLZCI",
        "outputId": "edc9c184-6d24-41b8-dc42-557d28b1bc5c",
        "colab": {
          "base_uri": "https://localhost:8080/"
        }
      },
      "execution_count": 36,
      "outputs": [
        {
          "output_type": "execute_result",
          "data": {
            "text/plain": [
              "[Row(avg(age)=32.5)]"
            ]
          },
          "metadata": {},
          "execution_count": 36
        }
      ]
    },
    {
      "cell_type": "code",
      "source": [
        "Array_df.select(avg(col(\"age\"))).collect()[0][0]"
      ],
      "metadata": {
        "id": "3gf9dwGBLg2o",
        "outputId": "48698e17-ce76-415c-c9f0-c2c981d7cbf7",
        "colab": {
          "base_uri": "https://localhost:8080/"
        }
      },
      "execution_count": 37,
      "outputs": [
        {
          "output_type": "execute_result",
          "data": {
            "text/plain": [
              "32.5"
            ]
          },
          "metadata": {},
          "execution_count": 37
        }
      ]
    },
    {
      "cell_type": "code",
      "source": [
        "agv_age = Array_df.select(avg(col(\"age\"))).collect()[0][0]\n"
      ],
      "metadata": {
        "id": "RJLvKpv_LmKF",
        "outputId": "45a354cf-07a6-481b-a5e8-db2cfe3fd971",
        "colab": {
          "base_uri": "https://localhost:8080/"
        }
      },
      "execution_count": 40,
      "outputs": [
        {
          "output_type": "stream",
          "name": "stdout",
          "text": [
            "32.5\n"
          ]
        }
      ]
    },
    {
      "cell_type": "code",
      "source": [
        "print(agv_age)"
      ],
      "metadata": {
        "id": "83ZvkQWMMLGI",
        "outputId": "cb24a3fd-d457-4ce6-bf5a-bb8cf839b627",
        "colab": {
          "base_uri": "https://localhost:8080/"
        }
      },
      "execution_count": 41,
      "outputs": [
        {
          "output_type": "stream",
          "name": "stdout",
          "text": [
            "32.5\n"
          ]
        }
      ]
    },
    {
      "cell_type": "code",
      "source": [],
      "metadata": {
        "id": "GUsHrIUyMNC5"
      },
      "execution_count": null,
      "outputs": []
    }
  ]
}