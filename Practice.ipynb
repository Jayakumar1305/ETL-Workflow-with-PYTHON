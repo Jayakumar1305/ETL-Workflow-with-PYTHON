{
  "nbformat": 4,
  "nbformat_minor": 0,
  "metadata": {
    "colab": {
      "provenance": [],
      "authorship_tag": "ABX9TyPo06JnnyM3VwrdSH9UxKf8",
      "include_colab_link": true
    },
    "kernelspec": {
      "name": "python3",
      "display_name": "Python 3"
    },
    "language_info": {
      "name": "python"
    }
  },
  "cells": [
    {
      "cell_type": "markdown",
      "metadata": {
        "id": "view-in-github",
        "colab_type": "text"
      },
      "source": [
        "<a href=\"https://colab.research.google.com/github/Jayakumar1305/ETL-Workflow-with-PYTHON/blob/main/Practice.ipynb\" target=\"_parent\"><img src=\"https://colab.research.google.com/assets/colab-badge.svg\" alt=\"Open In Colab\"/></a>"
      ]
    },
    {
      "cell_type": "code",
      "execution_count": null,
      "metadata": {
        "id": "0HpLGBcGe2IE"
      },
      "outputs": [],
      "source": []
    },
    {
      "cell_type": "code",
      "source": [
        "!pip install pyspark"
      ],
      "metadata": {
        "colab": {
          "base_uri": "https://localhost:8080/"
        },
        "id": "fbs_ikFpe5xf",
        "outputId": "867fcf35-c034-4d08-e819-ff28a2937dee"
      },
      "execution_count": 1,
      "outputs": [
        {
          "output_type": "stream",
          "name": "stdout",
          "text": [
            "Requirement already satisfied: pyspark in /usr/local/lib/python3.11/dist-packages (3.5.4)\n",
            "Requirement already satisfied: py4j==0.10.9.7 in /usr/local/lib/python3.11/dist-packages (from pyspark) (0.10.9.7)\n"
          ]
        }
      ]
    },
    {
      "cell_type": "code",
      "source": [
        "from pyspark.sql import SparkSession\n",
        "from pyspark.sql import Row"
      ],
      "metadata": {
        "id": "fssFf8YDe6qg"
      },
      "execution_count": 7,
      "outputs": []
    },
    {
      "cell_type": "code",
      "source": [
        "df = SparkSession.builder.appName(\"ColabPySpark\").getOrCreate()"
      ],
      "metadata": {
        "id": "gGUMwUCqfAAC"
      },
      "execution_count": 26,
      "outputs": []
    },
    {
      "cell_type": "code",
      "source": [
        "data = [(1, \"Alice\", 25, 5000), (2, \"Bob\", 30, 6000), (3, \"Charlie\", 35, 7000)]\n",
        "columns = [\"ID\", \"Name\", \"Age\", \"Salary\"]\n",
        "\n",
        "df = df.createDataFrame(data, columns)\n"
      ],
      "metadata": {
        "id": "FZjlb4vPfBXn"
      },
      "execution_count": 27,
      "outputs": []
    },
    {
      "cell_type": "code",
      "source": [
        "df.show()"
      ],
      "metadata": {
        "colab": {
          "base_uri": "https://localhost:8080/"
        },
        "id": "sK4lzTcfftim",
        "outputId": "b93fd064-6314-45e7-abc1-b49fec5113fd"
      },
      "execution_count": 28,
      "outputs": [
        {
          "output_type": "stream",
          "name": "stdout",
          "text": [
            "+---+-------+---+------+\n",
            "| ID|   Name|Age|Salary|\n",
            "+---+-------+---+------+\n",
            "|  1|  Alice| 25|  5000|\n",
            "|  2|    Bob| 30|  6000|\n",
            "|  3|Charlie| 35|  7000|\n",
            "+---+-------+---+------+\n",
            "\n"
          ]
        }
      ]
    },
    {
      "cell_type": "code",
      "source": [
        "df.printSchema()"
      ],
      "metadata": {
        "colab": {
          "base_uri": "https://localhost:8080/"
        },
        "id": "fkmuGMZzgH3F",
        "outputId": "47288bc3-3287-4d3c-967e-f02ee632875b"
      },
      "execution_count": 29,
      "outputs": [
        {
          "output_type": "stream",
          "name": "stdout",
          "text": [
            "root\n",
            " |-- ID: long (nullable = true)\n",
            " |-- Name: string (nullable = true)\n",
            " |-- Age: long (nullable = true)\n",
            " |-- Salary: long (nullable = true)\n",
            "\n"
          ]
        }
      ]
    },
    {
      "cell_type": "code",
      "source": [
        "df.columns"
      ],
      "metadata": {
        "colab": {
          "base_uri": "https://localhost:8080/"
        },
        "id": "WSD4nulPgQOx",
        "outputId": "e1bdb3df-d272-4bb5-8914-d0069f6770b0"
      },
      "execution_count": 19,
      "outputs": [
        {
          "output_type": "execute_result",
          "data": {
            "text/plain": [
              "['ID', 'Name', 'Age']"
            ]
          },
          "metadata": {},
          "execution_count": 19
        }
      ]
    },
    {
      "cell_type": "code",
      "source": [
        "df.describe().show()"
      ],
      "metadata": {
        "colab": {
          "base_uri": "https://localhost:8080/"
        },
        "id": "QKLz1kDRgWxQ",
        "outputId": "def47fe6-d7a0-421c-ee9a-3c832b6bfdd0"
      },
      "execution_count": 23,
      "outputs": [
        {
          "output_type": "stream",
          "name": "stdout",
          "text": [
            "+-------+---+-------+----+\n",
            "|summary| ID|   Name| Age|\n",
            "+-------+---+-------+----+\n",
            "|  count|  3|      3|   3|\n",
            "|   mean|2.0|   NULL|30.0|\n",
            "| stddev|1.0|   NULL| 5.0|\n",
            "|    min|  1|  Alice|  25|\n",
            "|    max|  3|Charlie|  35|\n",
            "+-------+---+-------+----+\n",
            "\n"
          ]
        }
      ]
    },
    {
      "cell_type": "code",
      "source": [
        "df = df.withColumn(\"Bonus\", df[\"Salary\"] * 0.1)"
      ],
      "metadata": {
        "id": "VTlpbORNgkMF"
      },
      "execution_count": 30,
      "outputs": []
    },
    {
      "cell_type": "code",
      "source": [
        "df.show()"
      ],
      "metadata": {
        "colab": {
          "base_uri": "https://localhost:8080/"
        },
        "id": "HA5L7wqihZw4",
        "outputId": "3dc1ac59-087c-444c-9ab2-0cd0d3da06fd"
      },
      "execution_count": 31,
      "outputs": [
        {
          "output_type": "stream",
          "name": "stdout",
          "text": [
            "+---+-------+---+------+-----+\n",
            "| ID|   Name|Age|Salary|Bonus|\n",
            "+---+-------+---+------+-----+\n",
            "|  1|  Alice| 25|  5000|500.0|\n",
            "|  2|    Bob| 30|  6000|600.0|\n",
            "|  3|Charlie| 35|  7000|700.0|\n",
            "+---+-------+---+------+-----+\n",
            "\n"
          ]
        }
      ]
    },
    {
      "cell_type": "code",
      "source": [],
      "metadata": {
        "id": "znlTiNL4hbaA"
      },
      "execution_count": null,
      "outputs": []
    }
  ]
}